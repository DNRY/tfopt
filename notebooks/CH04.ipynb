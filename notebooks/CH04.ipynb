{
 "cells": [
  {
   "cell_type": "markdown",
   "metadata": {},
   "source": [
    "# 4장. 최적화 이론에 필요한 선형대수와 미분\n",
    "## 4.1 선형대수\n",
    "### 4.1.3 벡터/벡터 연산\n",
    "#### 내적(Innter product)"
   ]
  },
  {
   "cell_type": "code",
   "execution_count": 1,
   "metadata": {},
   "outputs": [],
   "source": [
    "import tensorflow as tf"
   ]
  },
  {
   "cell_type": "code",
   "execution_count": 2,
   "metadata": {},
   "outputs": [
    {
     "data": {
      "text/plain": [
       "'2.5.0'"
      ]
     },
     "execution_count": 2,
     "metadata": {},
     "output_type": "execute_result"
    }
   ],
   "source": [
    "tf.__version__"
   ]
  },
  {
   "cell_type": "code",
   "execution_count": 3,
   "metadata": {},
   "outputs": [
    {
     "name": "stdout",
     "output_type": "stream",
     "text": [
      "tf.Tensor([[32.]], shape=(1, 1), dtype=float32)\n"
     ]
    }
   ],
   "source": [
    "x = tf.constant([[1.], [2.], [3.]], dtype=tf.float32)\n",
    "y = tf.constant([[4.], [5.], [6.]], dtype=tf.float32)\n",
    "xT = tf.transpose(x)\n",
    "out = tf.matmul(xT, y)\n",
    "print(out)"
   ]
  },
  {
   "cell_type": "markdown",
   "metadata": {},
   "source": [
    "#### 벡터의 크기(Norm)"
   ]
  },
  {
   "cell_type": "code",
   "execution_count": 4,
   "metadata": {},
   "outputs": [
    {
     "name": "stdout",
     "output_type": "stream",
     "text": [
      "tf.Tensor([[3.7416575]], shape=(1, 1), dtype=float32)\n"
     ]
    }
   ],
   "source": [
    "x = tf.constant([[1.], [2.], [3.]], dtype=tf.float32)\n",
    "xT = tf.transpose(x)\n",
    "out = tf.sqrt(tf.matmul(xT, x))\n",
    "print(out)"
   ]
  },
  {
   "cell_type": "code",
   "execution_count": 5,
   "metadata": {},
   "outputs": [
    {
     "name": "stdout",
     "output_type": "stream",
     "text": [
      "tf.Tensor(3.7416575, shape=(), dtype=float32)\n"
     ]
    }
   ],
   "source": [
    "x = tf.constant([[1.], [2.], [3.]], dtype=tf.float32)\n",
    "out = tf.norm(x)\n",
    "print(out)"
   ]
  },
  {
   "cell_type": "markdown",
   "metadata": {},
   "source": [
    "### 4.1.4 행렬/벡터 연산\n",
    "#### 예제 1: 1x1 행렬과 1차원 벡터의 곱"
   ]
  },
  {
   "cell_type": "code",
   "execution_count": 6,
   "metadata": {},
   "outputs": [
    {
     "name": "stdout",
     "output_type": "stream",
     "text": [
      "tf.Tensor([[1.]], shape=(1, 1), dtype=float32)\n",
      "A의 Shape : (1, 1)\n",
      "x의 Shape : (1, 1)\n",
      "b의 Shape : (1, 1)\n"
     ]
    }
   ],
   "source": [
    "A = tf.constant([[1.]], dtype=tf.float32)\n",
    "x = tf.constant([[1.]], dtype=tf.float32)\n",
    "b = tf.matmul(A, x)\n",
    "print(b)\n",
    "print(\"A의 Shape : {0}\".format(A.shape))\n",
    "print(\"x의 Shape : {0}\".format(x.shape))\n",
    "print(\"b의 Shape : {0}\".format(b.shape))"
   ]
  },
  {
   "cell_type": "markdown",
   "metadata": {},
   "source": [
    "#### 예제 2: 1x2 행렬과 2차원 벡터의 곱"
   ]
  },
  {
   "cell_type": "code",
   "execution_count": 7,
   "metadata": {},
   "outputs": [
    {
     "name": "stdout",
     "output_type": "stream",
     "text": [
      "tf.Tensor([[9.]], shape=(1, 1), dtype=float32)\n",
      "A의 Shape : (1, 2)\n",
      "x의 Shape : (2, 1)\n",
      "b의 Shape : (1, 1)\n"
     ]
    }
   ],
   "source": [
    "A = tf.constant([[1., 4.]], dtype=tf.float32)\n",
    "x = tf.constant([[1.], [2.]], dtype=tf.float32)\n",
    "b = tf.matmul(A, x)\n",
    "print(b)\n",
    "print(\"A의 Shape : {0}\".format(A.shape))\n",
    "print(\"x의 Shape : {0}\".format(x.shape))\n",
    "print(\"b의 Shape : {0}\".format(b.shape))"
   ]
  },
  {
   "cell_type": "markdown",
   "metadata": {},
   "source": [
    "#### 예제3: 2x2 행렬과 2차원 벡터"
   ]
  },
  {
   "cell_type": "code",
   "execution_count": 8,
   "metadata": {},
   "outputs": [
    {
     "name": "stdout",
     "output_type": "stream",
     "text": [
      "tf.Tensor(\n",
      "[[ 9.]\n",
      " [19.]], shape=(2, 1), dtype=float32)\n",
      "A의 Shape : (2, 2)\n",
      "x의 Shape : (2, 1)\n",
      "b의 Shape : (2, 1)\n"
     ]
    }
   ],
   "source": [
    "A = tf.constant([[1., 4.], [9., 5.]], dtype=tf.float32)\n",
    "x = tf.constant([[1.], [2.]], dtype=tf.float32)\n",
    "b = tf.matmul(A, x)\n",
    "print(b)\n",
    "print(\"A의 Shape : {0}\".format(A.shape))\n",
    "print(\"x의 Shape : {0}\".format(x.shape))\n",
    "print(\"b의 Shape : {0}\".format(b.shape))"
   ]
  },
  {
   "cell_type": "markdown",
   "metadata": {},
   "source": [
    "#### 예제4: 3x2 행렬과 2차원 벡터의 곱"
   ]
  },
  {
   "cell_type": "code",
   "execution_count": 9,
   "metadata": {},
   "outputs": [
    {
     "name": "stdout",
     "output_type": "stream",
     "text": [
      "tf.Tensor(\n",
      "[[ 9.]\n",
      " [19.]\n",
      " [ 4.]], shape=(3, 1), dtype=float32)\n",
      "A의 Shape : (3, 2)\n",
      "x의 Shape : (2, 1)\n",
      "b의 Shape : (3, 1)\n"
     ]
    }
   ],
   "source": [
    "A = tf.constant([[1., 4.], [9., 5.], [4., 0.]], dtype=tf.float32)\n",
    "x = tf.constant([[1.], [2.]], dtype=tf.float32)\n",
    "b = tf.matmul(A, x)\n",
    "print(b)\n",
    "print(\"A의 Shape : {0}\".format(A.shape))\n",
    "print(\"x의 Shape : {0}\".format(x.shape))\n",
    "print(\"b의 Shape : {0}\".format(b.shape))"
   ]
  },
  {
   "cell_type": "markdown",
   "metadata": {},
   "source": [
    "#### 예제 5: 4x2 행렬과 2차원 벡터의 곱"
   ]
  },
  {
   "cell_type": "code",
   "execution_count": 10,
   "metadata": {},
   "outputs": [
    {
     "name": "stdout",
     "output_type": "stream",
     "text": [
      "tf.Tensor(\n",
      "[[ 9.]\n",
      " [19.]\n",
      " [ 4.]\n",
      " [ 8.]], shape=(4, 1), dtype=float32)\n",
      "A의 Shape : (4, 2)\n",
      "x의 Shape : (2, 1)\n",
      "b의 Shape : (4, 1)\n"
     ]
    }
   ],
   "source": [
    "A = tf.constant([[1., 4.], [9., 5.], [4., 0.], [6., 1.]], dtype=tf.float32)\n",
    "x = tf.constant([[1.], [2.]], dtype=tf.float32)\n",
    "b = tf.matmul(A, x)\n",
    "print(b)\n",
    "print(\"A의 Shape : {0}\".format(A.shape))\n",
    "print(\"x의 Shape : {0}\".format(x.shape))\n",
    "print(\"b의 Shape : {0}\".format(b.shape))"
   ]
  },
  {
   "cell_type": "markdown",
   "metadata": {},
   "source": [
    "#### 예제 6: 4x3행렬과 3차원 벡터의 곱"
   ]
  },
  {
   "cell_type": "code",
   "execution_count": 11,
   "metadata": {},
   "outputs": [
    {
     "name": "stdout",
     "output_type": "stream",
     "text": [
      "tf.Tensor(\n",
      "[[15.]\n",
      " [19.]\n",
      " [10.]\n",
      " [32.]], shape=(4, 1), dtype=float32)\n",
      "A의 Shape : (4, 3)\n",
      "x의 Shape : (3, 1)\n",
      "b의 Shape : (4, 1)\n"
     ]
    }
   ],
   "source": [
    "A = tf.constant([[1., 4., 2.], [9., 5., 0.], [4., 0., 2.], [6., 1., 8.]], dtype=tf.float32)\n",
    "x = tf.constant([[1.], [2.], [3.]], dtype=tf.float32)\n",
    "b = tf.matmul(A, x)\n",
    "print(b)\n",
    "print(\"A의 Shape : {0}\".format(A.shape))\n",
    "print(\"x의 Shape : {0}\".format(x.shape))\n",
    "print(\"b의 Shape : {0}\".format(b.shape))"
   ]
  },
  {
   "cell_type": "markdown",
   "metadata": {},
   "source": [
    "#### 예제 7: 4x4행렬과 4차원 벡터의 곱"
   ]
  },
  {
   "cell_type": "code",
   "execution_count": 12,
   "metadata": {},
   "outputs": [
    {
     "name": "stdout",
     "output_type": "stream",
     "text": [
      "tf.Tensor(\n",
      "[[15.]\n",
      " [19.]\n",
      " [26.]\n",
      " [44.]], shape=(4, 1), dtype=float32)\n",
      "A의 Shape : (4, 4)\n",
      "x의 Shape : (4, 1)\n",
      "b의 Shape : (4, 1)\n"
     ]
    }
   ],
   "source": [
    "A = tf.constant([[1, 4, 2, 0], [9, 5, 0, 0], [4, 0, 2, 4], [6, 1, 8, 3]], dtype=tf.float32)\n",
    "x = tf.constant([[1.], [2.], [3.], [4.]], dtype=tf.float32)\n",
    "b = tf.matmul(A, x)\n",
    "print(b)\n",
    "print(\"A의 Shape : {0}\".format(A.shape))\n",
    "print(\"x의 Shape : {0}\".format(x.shape))\n",
    "print(\"b의 Shape : {0}\".format(b.shape))"
   ]
  },
  {
   "cell_type": "markdown",
   "metadata": {},
   "source": [
    "#### 예제 8: 4x5행렬과 5차원 벡터의 곱"
   ]
  },
  {
   "cell_type": "code",
   "execution_count": 13,
   "metadata": {},
   "outputs": [
    {
     "name": "stdout",
     "output_type": "stream",
     "text": [
      "tf.Tensor(\n",
      "[[25.]\n",
      " [44.]\n",
      " [61.]\n",
      " [49.]], shape=(4, 1), dtype=float32)\n",
      "A의 Shape : (4, 5)\n",
      "x의 Shape : (5, 1)\n",
      "b의 Shape : (4, 1)\n"
     ]
    }
   ],
   "source": [
    "A = tf.constant([[1, 4, 2, 0, 2], [9, 5, 0, 0, 5], [4, 0, 2, 4, 7], [6, 1, 8, 3, 1]], dtype=tf.float32)\n",
    "x = tf.constant([[1.], [2.], [3.], [4.], [5.]], dtype=tf.float32)\n",
    "b = tf.matmul(A, x)\n",
    "print(b)\n",
    "print(\"A의 Shape : {0}\".format(A.shape))\n",
    "print(\"x의 Shape : {0}\".format(x.shape))\n",
    "print(\"b의 Shape : {0}\".format(b.shape))"
   ]
  },
  {
   "cell_type": "markdown",
   "metadata": {},
   "source": [
    "### 4.1.5 행렬/행렬 연산\n",
    "#### 예제 1: 4x4 행렬과 4x3 행렬의 곱"
   ]
  },
  {
   "cell_type": "code",
   "execution_count": 14,
   "metadata": {},
   "outputs": [
    {
     "name": "stdout",
     "output_type": "stream",
     "text": [
      "tf.Tensor(\n",
      "[[ 15.  43.  71.]\n",
      " [ 19.  75. 131.]\n",
      " [ 26.  66. 106.]\n",
      " [ 44. 116. 188.]], shape=(4, 3), dtype=float32)\n",
      "A의 Shape : (4, 4)\n",
      "B의 Shape : (4, 3)\n",
      "C의 Shape : (4, 3)\n"
     ]
    }
   ],
   "source": [
    "A = tf.constant([[1, 4, 2, 0], [9, 5, 0, 0], [4, 0, 2, 4], [6, 1, 8, 3]], dtype=tf.float32)\n",
    "B = tf.constant([[1, 5, 9], [2, 6, 10], [3, 7, 11], [4, 8, 12]], dtype=tf.float32)\n",
    "C = tf.matmul(A, B)\n",
    "print(C)\n",
    "print(\"A의 Shape : {0}\".format(A.shape))\n",
    "print(\"B의 Shape : {0}\".format(B.shape))\n",
    "print(\"C의 Shape : {0}\".format(C.shape))"
   ]
  },
  {
   "cell_type": "markdown",
   "metadata": {},
   "source": [
    "#### 예제 2: 4x5 행렬과 5x2 행렬의 곱"
   ]
  },
  {
   "cell_type": "code",
   "execution_count": 15,
   "metadata": {},
   "outputs": [
    {
     "name": "stdout",
     "output_type": "stream",
     "text": [
      "tf.Tensor(\n",
      "[[ 25.  70.]\n",
      " [ 44. 139.]\n",
      " [ 56. 136.]\n",
      " [ 49. 144.]], shape=(4, 2), dtype=float32)\n",
      "A의 Shape : (4, 5)\n",
      "B의 Shape : (5, 2)\n",
      "C의 Shape : (4, 2)\n"
     ]
    }
   ],
   "source": [
    "A = tf.constant([[1, 4, 2, 0, 2], [9, 5, 0, 0, 5], [4, 0, 2, 4, 6], [6, 1, 8, 3, 1]], dtype=tf.float32)\n",
    "B = tf.constant([[1, 6], [2, 7], [3, 8], [4, 9], [5, 10]], dtype=tf.float32)\n",
    "C = tf.matmul(A, B)\n",
    "print(C)\n",
    "print(\"A의 Shape : {0}\".format(A.shape))\n",
    "print(\"B의 Shape : {0}\".format(B.shape))\n",
    "print(\"C의 Shape : {0}\".format(C.shape))"
   ]
  },
  {
   "cell_type": "markdown",
   "metadata": {},
   "source": [
    "### 4.1.6 선형 시스템의 풀이"
   ]
  },
  {
   "cell_type": "code",
   "execution_count": 16,
   "metadata": {},
   "outputs": [
    {
     "name": "stdout",
     "output_type": "stream",
     "text": [
      "tf.Tensor(\n",
      "[[0.9999999]\n",
      " [2.0000002]\n",
      " [2.9999995]\n",
      " [4.       ]], shape=(4, 1), dtype=float32)\n",
      "A의 Shape : (4, 4)\n",
      "b의 Shape : (4, 1)\n",
      "x의 Shape : (4, 1)\n"
     ]
    }
   ],
   "source": [
    "A = tf.constant([[1, 4, 2, 0], [9, 5, 0, 0], [4, 0, 2, 4], [6, 1, 8, 3]], dtype=tf.float32)\n",
    "b = tf.constant([[15], [19], [26], [44]], dtype=tf.float32)\n",
    "x = tf.linalg.solve(A, b)\n",
    "print(x)\n",
    "print(\"A의 Shape : {0}\".format(A.shape))\n",
    "print(\"b의 Shape : {0}\".format(b.shape))\n",
    "print(\"x의 Shape : {0}\".format(x.shape))"
   ]
  },
  {
   "cell_type": "code",
   "execution_count": 17,
   "metadata": {},
   "outputs": [
    {
     "name": "stdout",
     "output_type": "stream",
     "text": [
      "tf.Tensor(\n",
      "[[15.      ]\n",
      " [19.      ]\n",
      " [25.999998]\n",
      " [43.999996]], shape=(4, 1), dtype=float32)\n",
      "b - b2:\n",
      " [[0.0000000e+00]\n",
      " [0.0000000e+00]\n",
      " [1.9073486e-06]\n",
      " [3.8146973e-06]]\n"
     ]
    }
   ],
   "source": [
    "b2 = tf.matmul(A,x)\n",
    "print(b2)\n",
    "print(\"b - b2:\\n {0}\".format(b - b2))"
   ]
  },
  {
   "cell_type": "markdown",
   "metadata": {},
   "source": [
    "#### 배정밀도(double precision)"
   ]
  },
  {
   "cell_type": "code",
   "execution_count": 18,
   "metadata": {},
   "outputs": [
    {
     "name": "stdout",
     "output_type": "stream",
     "text": [
      "tf.Tensor(\n",
      "[[1.]\n",
      " [2.]\n",
      " [3.]\n",
      " [4.]], shape=(4, 1), dtype=float64)\n",
      "A의 Shape : (4, 4)\n",
      "b의 Shape : (4, 1)\n",
      "x의 Shape : (4, 1)\n"
     ]
    }
   ],
   "source": [
    "A = tf.constant([[1, 4, 2, 0], [9, 5, 0, 0], [4, 0, 2, 4], [6, 1, 8, 3]], dtype=tf.float64)\n",
    "b = tf.constant([[15], [19], [26], [44]], dtype=tf.float64)\n",
    "x = tf.linalg.solve(A, b)\n",
    "print(x)\n",
    "print(\"A의 Shape : {0}\".format(A.shape))\n",
    "print(\"b의 Shape : {0}\".format(b.shape))\n",
    "print(\"x의 Shape : {0}\".format(x.shape))"
   ]
  },
  {
   "cell_type": "code",
   "execution_count": 19,
   "metadata": {},
   "outputs": [
    {
     "name": "stdout",
     "output_type": "stream",
     "text": [
      "tf.Tensor(\n",
      "[[15.]\n",
      " [19.]\n",
      " [26.]\n",
      " [44.]], shape=(4, 1), dtype=float64)\n",
      "b - b2:\n",
      " [[ 0.00000000e+00]\n",
      " [ 0.00000000e+00]\n",
      " [-3.55271368e-15]\n",
      " [ 7.10542736e-15]]\n"
     ]
    }
   ],
   "source": [
    "b2 = tf.matmul(A,x)\n",
    "print(b2)\n",
    "print(\"b - b2:\\n {0}\".format(b - b2))"
   ]
  },
  {
   "cell_type": "markdown",
   "metadata": {},
   "source": [
    "## 4.2 딥러닝에서 자주 사용되는 선형대수 표기법\n",
    "#### 예제1 : 직선 위의 5개의 점과 선형모델"
   ]
  },
  {
   "cell_type": "code",
   "execution_count": 20,
   "metadata": {},
   "outputs": [
    {
     "name": "stdout",
     "output_type": "stream",
     "text": [
      "[[-1. ]\n",
      " [ 0.8]\n",
      " [ 2.8]\n",
      " [ 5. ]\n",
      " [ 7.2]]\n",
      "X의 Shape : (5, 1)\n",
      "w의 Shape : (1, 1)\n",
      "b의 Shape : ()\n",
      "y의 Shape : (5, 1)\n"
     ]
    }
   ],
   "source": [
    "X = tf.constant([[-1.0], [-0.1], [0.9], [2.0], [3.1]], dtype=tf.float32)\n",
    "w = tf.Variable([[2.0]])\n",
    "b = tf.Variable(1.0)\n",
    "y = tf.matmul(X,w) + b\n",
    "\n",
    "print(\"{0}\".format(y))\n",
    "print(\"X의 Shape : {0}\".format(X.shape))\n",
    "print(\"w의 Shape : {0}\".format(w.shape))\n",
    "print(\"b의 Shape : {0}\".format(b.shape))\n",
    "print(\"y의 Shape : {0}\".format(y.shape))"
   ]
  },
  {
   "cell_type": "code",
   "execution_count": 21,
   "metadata": {},
   "outputs": [
    {
     "data": {
      "image/png": "[encoded data removed]",
      "text/plain": [
       "<Figure size 432x288 with 1 Axes>"
      ]
     },
     "metadata": {
      "image/png": {
       "height": 248,
       "width": 362
      },
      "needs_background": "light"
     },
     "output_type": "display_data"
    }
   ],
   "source": [
    "import matplotlib.pyplot as plt\n",
    "%matplotlib inline\n",
    "%config InlineBackend.figure_format = 'retina'\n",
    "\n",
    "plt.plot(X, y, 'o:')\n",
    "plt.grid()"
   ]
  },
  {
   "cell_type": "markdown",
   "metadata": {},
   "source": [
    "#### 예제2 : 평면 위의 5개의 점과 선형모델"
   ]
  },
  {
   "cell_type": "code",
   "execution_count": 22,
   "metadata": {},
   "outputs": [
    {
     "name": "stdout",
     "output_type": "stream",
     "text": [
      "[[ 0. ]\n",
      " [ 1.1]\n",
      " [ 4. ]\n",
      " [ 7. ]\n",
      " [10.1]]\n",
      "X의 Shape : (5, 2)\n",
      "w의 Shape : (2, 1)\n",
      "b의 Shape : ()\n",
      "y의 Shape : (5, 1)\n"
     ]
    }
   ],
   "source": [
    "X = tf.constant([[-1.0, 1.0], [-0.1, 0.3], [0.9, 1.2], [2.0, 2.0], [3.1, 2.9]], dtype=tf.float32)\n",
    "w = tf.Variable([[2.0], [1.0]])\n",
    "b = tf.Variable(1.0)\n",
    "y = tf.matmul(X,w) + b\n",
    "\n",
    "print(\"{0}\".format(y))\n",
    "print(\"X의 Shape : {0}\".format(X.shape))\n",
    "print(\"w의 Shape : {0}\".format(w.shape))\n",
    "print(\"b의 Shape : {0}\".format(b.shape))\n",
    "print(\"y의 Shape : {0}\".format(y.shape))"
   ]
  },
  {
   "cell_type": "code",
   "execution_count": 23,
   "metadata": {},
   "outputs": [
    {
     "name": "stderr",
     "output_type": "stream",
     "text": [
      "/Users/dongwook/opt/anaconda3/envs/tfopt/lib/python3.9/site-packages/mpl_toolkits/mplot3d/proj3d.py:136: VisibleDeprecationWarning: Creating an ndarray from ragged nested sequences (which is a list-or-tuple of lists-or-tuples-or ndarrays with different lengths or shapes) is deprecated. If you meant to do this, you must specify 'dtype=object' when creating the ndarray.\n",
      "  return np.array([xs, ys, zs, np.ones_like(xs)])\n"
     ]
    },
    {
     "data": {
      "image/png": "[encoded data removed]",
      "text/plain": [
       "<Figure size 360x360 with 1 Axes>"
      ]
     },
     "metadata": {
      "image/png": {
       "height": 290,
       "width": 298
      },
      "needs_background": "light"
     },
     "output_type": "display_data"
    }
   ],
   "source": [
    "import matplotlib.pyplot as plt\n",
    "import mpl_toolkits.mplot3d.art3d as art3d\n",
    "%matplotlib inline\n",
    "%config InlineBackend.figure_format = 'retina'\n",
    "\n",
    "fig = plt.figure(figsize=(5,5))\n",
    "ax = fig.add_subplot(1, 1, 1, projection='3d')\n",
    "for (xi, yi), zi in zip(X, y):        \n",
    "    line=art3d.Line3D(*zip((xi, yi, 0), (xi, yi, zi)), marker='o', markevery=(1, 1))\n",
    "    ax.add_line(line)\n",
    "\n",
    "ax.set_xlim3d(-2, 3.5)\n",
    "ax.set_ylim3d(-2, 3.5)\n",
    "ax.set_zlim3d(0, 11)    \n",
    "plt.show()"
   ]
  }
 ],
 "metadata": {
  "kernelspec": {
   "display_name": "Python 3",
   "language": "python",
   "name": "python3"
  },
  "language_info": {
   "codemirror_mode": {
    "name": "ipython",
    "version": 3
   },
   "file_extension": ".py",
   "mimetype": "text/x-python",
   "name": "python",
   "nbconvert_exporter": "python",
   "pygments_lexer": "ipython3",
   "version": "3.9.5"
  }
 },
 "nbformat": 4,
 "nbformat_minor": 2
}
