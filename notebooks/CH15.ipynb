{
 "cells": [
  {
   "cell_type": "markdown",
   "id": "bd0bd564",
   "metadata": {},
   "source": [
    "# 15장. 텐서보드(TensorBoard) 활용"
   ]
  },
  {
   "cell_type": "code",
   "execution_count": null,
   "id": "4ae4b998",
   "metadata": {},
   "outputs": [],
   "source": [
    "!taskkill /IM \"tensorboard.exe\" /F"
   ]
  },
  {
   "cell_type": "code",
   "execution_count": null,
   "id": "60a7f8ee",
   "metadata": {},
   "outputs": [],
   "source": [
    "!rmdir /s /q logs"
   ]
  },
  {
   "cell_type": "code",
   "execution_count": null,
   "id": "cb29c87d",
   "metadata": {},
   "outputs": [],
   "source": [
    "%load_ext tensorboard"
   ]
  },
  {
   "cell_type": "code",
   "execution_count": null,
   "id": "ca7fef5a",
   "metadata": {},
   "outputs": [],
   "source": [
    "from datetime import datetime\n",
    "import tensorflow as tf\n",
    "import numpy as np"
   ]
  },
  {
   "cell_type": "code",
   "execution_count": null,
   "id": "5cb13238",
   "metadata": {},
   "outputs": [],
   "source": [
    "logdir = \"logs/scalars/\" + datetime.now().strftime(\"%Y%m%d-%H%M%S\")\n",
    "file_writer = tf.summary.create_file_writer(logdir + \"/metrics\")\n",
    "file_writer.set_as_default()"
   ]
  },
  {
   "cell_type": "markdown",
   "id": "84cd7b9f",
   "metadata": {},
   "source": [
    "## 15.1 그래프 그리기"
   ]
  },
  {
   "cell_type": "code",
   "execution_count": null,
   "id": "bc3fea7c",
   "metadata": {},
   "outputs": [],
   "source": [
    "domain = np.linspace(-1, 1)\n",
    "for s, x in enumerate(domain):\n",
    "    y = np.cos(2 * np.pi * x)\n",
    "    tf.summary.scalar(\"Cosine\", data=y, step=s)"
   ]
  },
  {
   "cell_type": "markdown",
   "id": "a3ec16fa",
   "metadata": {},
   "source": [
    "## 15.2 히스토그램 그리기"
   ]
  },
  {
   "cell_type": "code",
   "execution_count": null,
   "id": "ff224400",
   "metadata": {},
   "outputs": [],
   "source": [
    "N = 400\n",
    "for k in range(N):\n",
    "    mu = k / float(N)\n",
    "    val = tf.random.normal(shape=[1000], mean=mu, stddev=1)\n",
    "    tf.summary.histogram(\"normal/moving_mean\", val, k)"
   ]
  },
  {
   "cell_type": "markdown",
   "id": "469142ee",
   "metadata": {},
   "source": [
    "## 15.3 이미지 그리기"
   ]
  },
  {
   "cell_type": "code",
   "execution_count": null,
   "id": "7b55325e",
   "metadata": {},
   "outputs": [],
   "source": [
    "mnist = tf.keras.datasets.mnist\n",
    "(x_train, y_train), (x_test, y_test) = mnist.load_data()"
   ]
  },
  {
   "cell_type": "code",
   "execution_count": null,
   "id": "3f9e8d02",
   "metadata": {},
   "outputs": [],
   "source": [
    "N = 400\n",
    "for k in range(N):\n",
    "    anImage = np.expand_dims(x_train[k], axis=[0, -1])\n",
    "    tf.summary.image(\"MNIST Image\", anImage, k)"
   ]
  },
  {
   "cell_type": "code",
   "execution_count": null,
   "id": "21f83ed4",
   "metadata": {},
   "outputs": [],
   "source": [
    "%tensorboard --logdir logs/scalars --port=3982"
   ]
  },
  {
   "cell_type": "markdown",
   "id": "10454903",
   "metadata": {},
   "source": [
    "## 15.4 신경망 모델 학습 과정에 텐서보드 적용하기"
   ]
  },
  {
   "cell_type": "code",
   "execution_count": null,
   "id": "152af8bd",
   "metadata": {},
   "outputs": [],
   "source": [
    "mnist = tf.keras.datasets.mnist\n",
    "\n",
    "(x_train, y_train), (x_test, y_test) = mnist.load_data()\n",
    "x_train, x_test = x_train / 255.0, x_test / 255.0"
   ]
  },
  {
   "cell_type": "code",
   "execution_count": null,
   "id": "b4851bf0",
   "metadata": {},
   "outputs": [],
   "source": [
    "logdir = \"logs/fit1/\" + datetime.now().strftime(\"%Y%m%d-%H%M%S\")\n",
    "file_writer = tf.summary.create_file_writer(logdir + \"/metrics\")\n",
    "file_writer.set_as_default()\n",
    "tensorboard_callback = keras.callbacks.TensorBoard(log_dir=logdir)\n",
    "\n",
    "model = tf.keras.models.Sequential([\n",
    "  tf.keras.layers.Flatten(input_shape=(28, 28)),\n",
    "  tf.keras.layers.Dense(128, activation='relu'),\n",
    "  tf.keras.layers.Dropout(0.2),\n",
    "  tf.keras.layers.Dense(10, activation='softmax')\n",
    "])\n",
    "\n",
    "model.compile(\n",
    "    loss='sparse_categorical_crossentropy',\n",
    "    optimizer=keras.optimizers.SGD(learning_rate=0.2),\n",
    "    metrics=['accuracy']\n",
    ")\n",
    "\n",
    "training_history = model.fit(x_train, y_train, epochs=75,\n",
    "    validation_data=(x_test, y_test),\n",
    "    callbacks=[tensorboard_callback],\n",
    ")\n",
    "\n",
    "print(\"Average test loss: \", np.average(training_history.history['loss']))"
   ]
  },
  {
   "cell_type": "code",
   "execution_count": null,
   "id": "f66d4c06",
   "metadata": {},
   "outputs": [],
   "source": [
    "%tensorboard --logdir logs/fit1 --port=3983"
   ]
  },
  {
   "cell_type": "markdown",
   "id": "620a7050",
   "metadata": {},
   "source": [
    "## 15.5 Custom 값을 텐서보드에 출력하기"
   ]
  },
  {
   "cell_type": "code",
   "execution_count": null,
   "id": "1d34d28f",
   "metadata": {
    "scrolled": false
   },
   "outputs": [],
   "source": [
    "from tensorflow import keras\n",
    "\n",
    "logdir = \"logs/fit2/\" + datetime.now().strftime(\"%Y%m%d-%H%M%S\")\n",
    "file_writer = tf.summary.create_file_writer(logdir + \"/metrics\")\n",
    "file_writer.set_as_default()\n",
    "\n",
    "def lr_schedule(epoch):\n",
    "    learning_rate = 0.2\n",
    "    if epoch > 10:\n",
    "        learning_rate = 0.02\n",
    "    if epoch > 20:\n",
    "        learning_rate = 0.01\n",
    "    if epoch > 50:\n",
    "        learning_rate = 0.005\n",
    "\n",
    "    tf.summary.scalar('learning rate', data=learning_rate, step=epoch)\n",
    "    return learning_rate\n",
    "\n",
    "lr_callback = keras.callbacks.LearningRateScheduler(lr_schedule)\n",
    "tensorboard_callback = keras.callbacks.TensorBoard(log_dir=logdir)\n",
    "\n",
    "model = tf.keras.models.Sequential([\n",
    "  tf.keras.layers.Flatten(input_shape=(28, 28)),\n",
    "  tf.keras.layers.Dense(128, activation='relu'),\n",
    "  tf.keras.layers.Dropout(0.2),\n",
    "  tf.keras.layers.Dense(10, activation='softmax')\n",
    "])\n",
    "\n",
    "model.compile(\n",
    "    loss='sparse_categorical_crossentropy',\n",
    "    optimizer=keras.optimizers.SGD(),\n",
    "    metrics=['accuracy']\n",
    ")\n",
    "\n",
    "training_history = model.fit(x_train, y_train, epochs=75,\n",
    "    validation_data=(x_test, y_test),\n",
    "    callbacks=[tensorboard_callback, lr_callback],\n",
    ")\n",
    "\n",
    "print(\"Average test loss: \", np.average(training_history.history['loss']))"
   ]
  },
  {
   "cell_type": "code",
   "execution_count": null,
   "id": "3b414678",
   "metadata": {},
   "outputs": [],
   "source": [
    "%tensorboard --logdir logs/fit2  --port=3984"
   ]
  },
  {
   "cell_type": "code",
   "execution_count": null,
   "id": "eec7c678",
   "metadata": {},
   "outputs": [],
   "source": []
  }
 ],
 "metadata": {
  "kernelspec": {
   "display_name": "Python 3 (ipykernel)",
   "language": "python",
   "name": "python3"
  },
  "language_info": {
   "codemirror_mode": {
    "name": "ipython",
    "version": 3
   },
   "file_extension": ".py",
   "mimetype": "text/x-python",
   "name": "python",
   "nbconvert_exporter": "python",
   "pygments_lexer": "ipython3",
   "version": "3.9.10"
  }
 },
 "nbformat": 4,
 "nbformat_minor": 5
}
