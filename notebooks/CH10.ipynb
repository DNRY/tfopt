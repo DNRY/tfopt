{
  "nbformat": 4,
  "nbformat_minor": 0,
  "metadata": {
    "colab": {
      "provenance": [],
      "collapsed_sections": []
    },
    "kernelspec": {
      "name": "python3",
      "display_name": "Python 3"
    },
    "language_info": {
      "name": "python"
    }
  },
  "cells": [
    {
      "cell_type": "markdown",
      "source": [
        "# 10. 신경망 회귀 모델"
      ],
      "metadata": {
        "id": "z5Rm7HlLrI67"
      }
    },
    {
      "cell_type": "code",
      "source": [
        "!wget -N https://github.com/DNRY/tfopt/raw/main/notebooks/helper.py"
      ],
      "metadata": {
        "colab": {
          "base_uri": "https://localhost:8080/"
        },
        "id": "WUoKHLkIIGsZ",
        "outputId": "5fcb151d-1a4c-40ad-9881-4cbb9975b4b1"
      },
      "execution_count": 1,
      "outputs": [
        {
          "output_type": "stream",
          "name": "stdout",
          "text": [
            "--2022-10-08 10:31:03--  https://github.com/DNRY/tfopt/raw/main/notebooks/helper.py\n",
            "Resolving github.com (github.com)... 140.82.121.3\n",
            "Connecting to github.com (github.com)|140.82.121.3|:443... connected.\n",
            "HTTP request sent, awaiting response... 302 Found\n",
            "Location: https://raw.githubusercontent.com/DNRY/tfopt/main/notebooks/helper.py [following]\n",
            "--2022-10-08 10:31:03--  https://raw.githubusercontent.com/DNRY/tfopt/main/notebooks/helper.py\n",
            "Resolving raw.githubusercontent.com (raw.githubusercontent.com)... 185.199.108.133, 185.199.109.133, 185.199.110.133, ...\n",
            "Connecting to raw.githubusercontent.com (raw.githubusercontent.com)|185.199.108.133|:443... connected.\n",
            "HTTP request sent, awaiting response... 200 OK\n",
            "Length: 7133 (7.0K) [text/plain]\n",
            "Saving to: ‘helper.py’\n",
            "\n",
            "\rhelper.py             0%[                    ]       0  --.-KB/s               \rhelper.py           100%[===================>]   6.97K  --.-KB/s    in 0s      \n",
            "\n",
            "Last-modified header missing -- time-stamps turned off.\n",
            "2022-10-08 10:31:03 (69.4 MB/s) - ‘helper.py’ saved [7133/7133]\n",
            "\n"
          ]
        }
      ]
    },
    {
      "cell_type": "markdown",
      "source": [
        "## 10.1 신경망 모델의 필요성"
      ],
      "metadata": {
        "id": "AG1IBf6HrRHV"
      }
    },
    {
      "cell_type": "code",
      "source": [
        "from matplotlib.patches import Rectangle\n",
        "def visualize_l2(pred, x_input, y_train):\n",
        "    plt.plot(x_input, y_train, '.k', markerfacecolor='none')\n",
        "    plt.plot(x_input, pred,  '--k')\n",
        "    currentAxis = plt.gca()\n",
        "    for k, (xx,yy) in enumerate(zip(x_train, y_train)):\n",
        "        error = pred[k] - yy\n",
        "        currentAxis.add_patch(Rectangle((xx, yy), \n",
        "                                        error, error,\n",
        "                              alpha=0.1, facecolor='gray', edgecolor='k'))\n",
        "    plt.grid()\n",
        "    plt.axis('equal')\n",
        "    plt.xlabel('x')\n",
        "    plt.ylabel('y')"
      ],
      "metadata": {
        "id": "IRXow7FmFt1Z"
      },
      "execution_count": 2,
      "outputs": []
    },
    {
      "cell_type": "code",
      "source": [
        "import numpy as np\n",
        "import matplotlib.pylab as plt\n",
        "import tensorflow as tf\n",
        "from helper import generate_batches\n",
        "# 데이터 생성\n",
        "np.random.seed(327)\n",
        "x_train = np.linspace(-1,1,50)\n",
        "y_train = x_train**3 + 0.1 * x_train**2 -0.15 * x_train + 1.0 + 0.5 * np.random.rand(len(x_train))\n",
        "\n",
        "plt.plot(x_train, y_train, '.k')\n",
        "plt.grid()\n",
        "plt.xlabel('x')\n",
        "plt.ylabel('y')\n",
        "plt.show()"
      ],
      "metadata": {
        "colab": {
          "base_uri": "https://localhost:8080/",
          "height": 279
        },
        "id": "ceFGQb1OrKEv",
        "outputId": "909e4e7a-1864-484a-f5dc-c336bf6bcc57"
      },
      "execution_count": 3,
      "outputs": [
        {
          "output_type": "display_data",
          "data": {
            "text/plain": [
              "<Figure size 432x288 with 1 Axes>"
            ],
            "image/png": "[encoded data removed]"
          },
          "metadata": {
            "needs_background": "light"
          }
        }
      ]
    },
    {
      "cell_type": "code",
      "source": [
        "features1 = np.array([[xval] for xval in x_train])\n",
        "features2 = np.array([[xval**2, xval] for xval in x_train])\n",
        "features3 = np.array([[xval**3, xval**2, xval] for xval in x_train])\n",
        "features4 = np.array([[np.cos(np.pi * xval), np.sin(np.pi * xval)] for xval in x_train])\n",
        "labels = y_train.reshape(-1, 1)"
      ],
      "metadata": {
        "id": "GgqrU3LHrPVM"
      },
      "execution_count": 4,
      "outputs": []
    },
    {
      "cell_type": "code",
      "source": [
        "class MyModel(tf.keras.Model):\n",
        "    def __init__(self, dim=1, **kwargs):\n",
        "        super().__init__(**kwargs)\n",
        "        self.W = tf.Variable(tf.ones([dim,1]), dtype=tf.float32) \n",
        "        self.b = tf.Variable(tf.ones([1]), dtype=tf.float32) \n",
        "\n",
        "    def call(self, x):\n",
        "        return tf.matmul(x, self.W) + self.b\n",
        "\n",
        "loss = lambda y, yhat: tf.reduce_mean(tf.square( yhat - y ))"
      ],
      "metadata": {
        "id": "gTmCz4U5rYaw"
      },
      "execution_count": 5,
      "outputs": []
    },
    {
      "cell_type": "code",
      "source": [
        "for i, features in enumerate([features1, features2, features3, features4], 1):\n",
        "   \t# 데이터 섞기\n",
        "   \tnp.random.seed(320)\n",
        "   \tshuffled_id = np.arange(0, len(x_train))\n",
        "   \tnp.random.shuffle(shuffled_id)\n",
        "   \tshuffled_x_train = features[shuffled_id]\n",
        "   \tshuffled_y_train = labels[shuffled_id]\n",
        "\n",
        "   \t# 예측모델과 손실함수\n",
        "   \tnum_features = features.shape[1]\n",
        "   \tmodel = MyModel(num_features)\n",
        "\n",
        "   \t# 파라미터 설정 및 수치최적화 알고리즘\n",
        "   \tMaxEpochs = 15\n",
        "   \tbatch_size = 10\n",
        "   \tlr = 0.1\n",
        "   \toptimizer = tf.keras.optimizers.Adam(lr)\n",
        "\n",
        "   \t# 스토캐스틱 방법\n",
        "   \tfor epoch in range(MaxEpochs):\n",
        "   \t\tif epoch % 5 == 0:\n",
        "   \t\t\tcurr_loss = loss(labels, model(features))\n",
        "   \t\t\tprint(model.W.numpy(), model.b.numpy(), curr_loss.numpy())\n",
        "   \t\tfor x_batch, y_batch in generate_batches(batch_size, shuffled_x_train, shuffled_y_train):\n",
        "   \t\t\twith tf.GradientTape() as tape:\n",
        "   \t\t\t\tcurr_loss = loss(y_batch, model(x_batch))\n",
        "   \t\t\t\tgradients = tape.gradient(curr_loss, model.trainable_variables)\n",
        "   \t\t\t\toptimizer.apply_gradients(zip(gradients, model.trainable_variables))\n"
      ],
      "metadata": {
        "colab": {
          "base_uri": "https://localhost:8080/"
        },
        "id": "SZmRLxm-svxi",
        "outputId": "c99d4ceb-cc6d-4ffe-dec7-946b80d2f69e"
      },
      "execution_count": 6,
      "outputs": [
        {
          "output_type": "stream",
          "name": "stdout",
          "text": [
            "[[1.]] [1.] 0.21256347\n",
            "[[0.51351786]] [1.2713623] 0.0458722\n",
            "[[0.4424447]] [1.2667447] 0.044767126\n",
            "[[1.]\n",
            " [1.]] [1.] 0.2260313\n",
            "[[-0.04760677]\n",
            " [ 0.54382205]] [1.2689111] 0.0485721\n",
            "[[0.17435731]\n",
            " [0.46753988]] [1.1939602] 0.043223683\n",
            "[[1.]\n",
            " [1.]\n",
            " [1.]] [1.] 0.57014674\n",
            "[[ 0.43706974]\n",
            " [-0.01975727]\n",
            " [ 0.19586705]] [1.2126927] 0.030156713\n",
            "[[0.610568  ]\n",
            " [0.15909205]\n",
            " [0.02455965]] [1.2120951] 0.022248514\n",
            "[[1.]\n",
            " [1.]] [1.] 1.1056408\n",
            "[[-0.27018577]\n",
            " [ 0.03585643]] [1.2154461] 0.13722548\n",
            "[[-0.01640769]\n",
            " [ 0.10837884]] [1.252276] 0.107143074\n"
          ]
        }
      ]
    },
    {
      "cell_type": "code",
      "source": [
        "for i, features in enumerate([features1, features2, features3, features4], 1):\n",
        "    # 데이터 섞기\n",
        "    np.random.seed(320)\n",
        "    shuffled_id = np.arange(0, len(x_train))\n",
        "    np.random.shuffle(shuffled_id)\n",
        "    shuffled_x_train = features[shuffled_id]\n",
        "    shuffled_y_train = labels[shuffled_id]\n",
        "\n",
        "    # 예측모델과 손실함수\n",
        "    num_features = features.shape[1]\n",
        "    model = MyModel(num_features)\n",
        "\n",
        "    # 파라미터 설정\n",
        "    MaxEpochs = 15\n",
        "    batch_size = 10\n",
        "    lr = 0.1\n",
        "\n",
        "    # 모델 컴파일\n",
        "    model.compile(optimizer = tf.keras.optimizers.Adam(lr),\n",
        "                  loss = tf.keras.losses.MeanSquaredError())\n",
        "    # 모델 학습\n",
        "    model.fit(shuffled_x_train, shuffled_y_train, \n",
        "              epochs = MaxEpochs, batch_size=batch_size, \n",
        "              shuffle=False)"
      ],
      "metadata": {
        "colab": {
          "base_uri": "https://localhost:8080/"
        },
        "id": "Rm05ZQ4Ss6Nv",
        "outputId": "f5d11e7f-4944-497b-a6a1-ccbf5fde0b88"
      },
      "execution_count": 7,
      "outputs": [
        {
          "output_type": "stream",
          "name": "stdout",
          "text": [
            "Epoch 1/15\n",
            "5/5 [==============================] - 0s 2ms/step - loss: 0.1322\n",
            "Epoch 2/15\n",
            "5/5 [==============================] - 0s 2ms/step - loss: 0.0596\n",
            "Epoch 3/15\n",
            "5/5 [==============================] - 0s 2ms/step - loss: 0.0583\n",
            "Epoch 4/15\n",
            "5/5 [==============================] - 0s 2ms/step - loss: 0.0551\n",
            "Epoch 5/15\n",
            "5/5 [==============================] - 0s 2ms/step - loss: 0.0472\n",
            "Epoch 6/15\n",
            "5/5 [==============================] - 0s 2ms/step - loss: 0.0491\n",
            "Epoch 7/15\n",
            "5/5 [==============================] - 0s 2ms/step - loss: 0.0470\n",
            "Epoch 8/15\n",
            "5/5 [==============================] - 0s 2ms/step - loss: 0.0455\n",
            "Epoch 9/15\n",
            "5/5 [==============================] - 0s 2ms/step - loss: 0.0461\n",
            "Epoch 10/15\n",
            "5/5 [==============================] - 0s 2ms/step - loss: 0.0458\n",
            "Epoch 11/15\n",
            "5/5 [==============================] - 0s 2ms/step - loss: 0.0453\n",
            "Epoch 12/15\n",
            "5/5 [==============================] - 0s 2ms/step - loss: 0.0454\n",
            "Epoch 13/15\n",
            "5/5 [==============================] - 0s 2ms/step - loss: 0.0456\n",
            "Epoch 14/15\n",
            "5/5 [==============================] - 0s 2ms/step - loss: 0.0454\n",
            "Epoch 15/15\n",
            "5/5 [==============================] - 0s 2ms/step - loss: 0.0453\n",
            "Epoch 1/15\n",
            "5/5 [==============================] - 0s 2ms/step - loss: 0.1448\n",
            "Epoch 2/15\n",
            "5/5 [==============================] - 0s 2ms/step - loss: 0.0656\n",
            "Epoch 3/15\n",
            "5/5 [==============================] - 0s 5ms/step - loss: 0.0597\n",
            "Epoch 4/15\n",
            "5/5 [==============================] - 0s 3ms/step - loss: 0.0495\n",
            "Epoch 5/15\n",
            "5/5 [==============================] - 0s 4ms/step - loss: 0.0477\n",
            "Epoch 6/15\n",
            "5/5 [==============================] - 0s 4ms/step - loss: 0.0492\n",
            "Epoch 7/15\n",
            "5/5 [==============================] - 0s 4ms/step - loss: 0.0453\n",
            "Epoch 8/15\n",
            "5/5 [==============================] - 0s 5ms/step - loss: 0.0438\n",
            "Epoch 9/15\n",
            "5/5 [==============================] - 0s 4ms/step - loss: 0.0442\n",
            "Epoch 10/15\n",
            "5/5 [==============================] - 0s 2ms/step - loss: 0.0442\n",
            "Epoch 11/15\n",
            "5/5 [==============================] - 0s 4ms/step - loss: 0.0444\n",
            "Epoch 12/15\n",
            "5/5 [==============================] - 0s 3ms/step - loss: 0.0444\n",
            "Epoch 13/15\n",
            "5/5 [==============================] - 0s 3ms/step - loss: 0.0442\n",
            "Epoch 14/15\n",
            "5/5 [==============================] - 0s 3ms/step - loss: 0.0441\n",
            "Epoch 15/15\n",
            "5/5 [==============================] - 0s 4ms/step - loss: 0.0441\n",
            "Epoch 1/15\n",
            "5/5 [==============================] - 1s 7ms/step - loss: 0.3389\n",
            "Epoch 2/15\n",
            "5/5 [==============================] - 0s 6ms/step - loss: 0.0906\n",
            "Epoch 3/15\n",
            "5/5 [==============================] - 0s 4ms/step - loss: 0.0660\n",
            "Epoch 4/15\n",
            "5/5 [==============================] - 0s 3ms/step - loss: 0.0774\n",
            "Epoch 5/15\n",
            "5/5 [==============================] - 0s 5ms/step - loss: 0.0394\n",
            "Epoch 6/15\n",
            "5/5 [==============================] - 0s 4ms/step - loss: 0.0302\n",
            "Epoch 7/15\n",
            "5/5 [==============================] - 0s 3ms/step - loss: 0.0354\n",
            "Epoch 8/15\n",
            "5/5 [==============================] - 0s 3ms/step - loss: 0.0273\n",
            "Epoch 9/15\n",
            "5/5 [==============================] - 0s 4ms/step - loss: 0.0230\n",
            "Epoch 10/15\n",
            "5/5 [==============================] - 0s 3ms/step - loss: 0.0231\n",
            "Epoch 11/15\n",
            "5/5 [==============================] - 0s 5ms/step - loss: 0.0214\n",
            "Epoch 12/15\n",
            "5/5 [==============================] - 0s 3ms/step - loss: 0.0199\n",
            "Epoch 13/15\n",
            "5/5 [==============================] - 0s 5ms/step - loss: 0.0202\n",
            "Epoch 14/15\n",
            "5/5 [==============================] - 0s 4ms/step - loss: 0.0194\n",
            "Epoch 15/15\n",
            "5/5 [==============================] - 0s 3ms/step - loss: 0.0186\n",
            "Epoch 1/15\n",
            "5/5 [==============================] - 0s 3ms/step - loss: 0.7673\n",
            "Epoch 2/15\n",
            "5/5 [==============================] - 0s 5ms/step - loss: 0.2242\n",
            "Epoch 3/15\n",
            "5/5 [==============================] - 0s 4ms/step - loss: 0.1169\n",
            "Epoch 4/15\n",
            "5/5 [==============================] - 0s 3ms/step - loss: 0.1555\n",
            "Epoch 5/15\n",
            "5/5 [==============================] - 0s 4ms/step - loss: 0.1603\n",
            "Epoch 6/15\n",
            "5/5 [==============================] - 0s 3ms/step - loss: 0.1302\n",
            "Epoch 7/15\n",
            "5/5 [==============================] - 0s 2ms/step - loss: 0.1137\n",
            "Epoch 8/15\n",
            "5/5 [==============================] - 0s 8ms/step - loss: 0.1139\n",
            "Epoch 9/15\n",
            "5/5 [==============================] - 0s 3ms/step - loss: 0.1122\n",
            "Epoch 10/15\n",
            "5/5 [==============================] - 0s 3ms/step - loss: 0.1078\n",
            "Epoch 11/15\n",
            "5/5 [==============================] - 0s 4ms/step - loss: 0.1063\n",
            "Epoch 12/15\n",
            "5/5 [==============================] - 0s 3ms/step - loss: 0.1067\n",
            "Epoch 13/15\n",
            "5/5 [==============================] - 0s 3ms/step - loss: 0.1073\n",
            "Epoch 14/15\n",
            "5/5 [==============================] - 0s 3ms/step - loss: 0.1075\n",
            "Epoch 15/15\n",
            "5/5 [==============================] - 0s 2ms/step - loss: 0.1071\n"
          ]
        }
      ]
    },
    {
      "cell_type": "markdown",
      "source": [
        "## 10.3 신경망 모델 구현"
      ],
      "metadata": {
        "id": "r0n_q5ifBv3C"
      }
    },
    {
      "cell_type": "code",
      "source": [
        "features = np.array([[xval] for xval in x_train])"
      ],
      "metadata": {
        "id": "nZW-qVxHBi7s"
      },
      "execution_count": 8,
      "outputs": []
    },
    {
      "cell_type": "code",
      "source": [
        "class MyModel(tf.keras.Model):\n",
        "    def __init__(self, **kwargs):\n",
        "        super().__init__(**kwargs)\n",
        "        num_hidden1 = 10 # 은닉층1의 노드 개수\n",
        "        num_hidden2 = 10 # 은닉층2의 노드 개수\n",
        "\n",
        "        # 은닉층 1 의 Weight 와 Bias\n",
        "        self.W1 = tf.Variable(tf.random.normal([1, num_hidden1], seed=624)) \n",
        "        self.b1 = tf.Variable(tf.random.normal([num_hidden1], seed=624)) \n",
        "\n",
        "        # 은닉층 2 의 Weight 와 Bias\n",
        "        self.W2 = tf.Variable(tf.random.normal([num_hidden1, num_hidden2], seed=624)) \n",
        "        self.b2 = tf.Variable(tf.random.normal([num_hidden2], seed=624)) \n",
        "\n",
        "        # 출력층의 Weight 와 Bias\n",
        "        self.W3 = tf.Variable(tf.random.normal([num_hidden2, 1], seed=624)) \n",
        "        self.b3 = tf.Variable(tf.random.normal([1], seed=624)) \n",
        "\n",
        "    def call(self, x):\n",
        "        l1 = tf.matmul(x, self.W1) + self.b1 # 은닉층 1 의 로짓 계산\n",
        "        h1 = tf.nn.sigmoid(l1) # 은닉층 1 의 활성함수 계산\n",
        "\n",
        "        l2 = tf.matmul(h1, self.W2) + self.b2 # 은닉층 2 의 로짓 계산\n",
        "        h2 = tf.nn.sigmoid(l2) # 은닉층 2 의 활성함수 계산\n",
        "\n",
        "        yhat = tf.matmul(h2, self.W3) + self.b3 # 출력층에서 모델의 예측값 계산\n",
        "        return yhat"
      ],
      "metadata": {
        "id": "FPig0jRTB5UN"
      },
      "execution_count": 9,
      "outputs": []
    },
    {
      "cell_type": "code",
      "source": [
        "model = MyModel()"
      ],
      "metadata": {
        "id": "zyu1IV1JCRnX"
      },
      "execution_count": 10,
      "outputs": []
    },
    {
      "cell_type": "code",
      "source": [
        "MaxEpochs = 120\n",
        "batch_size = 10\n",
        "lr = 0.1\n",
        "optimizer = tf.keras.optimizers.Adam(lr)\n",
        "loss = tf.keras.losses.MeanSquaredError()"
      ],
      "metadata": {
        "id": "3MIJAHkRCAHY"
      },
      "execution_count": 11,
      "outputs": []
    },
    {
      "cell_type": "code",
      "source": [
        "np.random.seed(320)\n",
        "shuffled_id = np.arange(0, len(x_train))\n",
        "np.random.shuffle(shuffled_id)\n",
        "shuffled_x_train = features[shuffled_id]\n",
        "shuffled_y_train = labels[shuffled_id]\n",
        "\n",
        "model.compile(optimizer = optimizer, loss = loss)\n",
        "model.fit(shuffled_x_train, shuffled_y_train, \n",
        "          epochs = MaxEpochs, batch_size = batch_size, \n",
        "          shuffle = False, verbose=0)"
      ],
      "metadata": {
        "colab": {
          "base_uri": "https://localhost:8080/"
        },
        "id": "mqebNGEaCCRc",
        "outputId": "b926ad8b-3106-4f97-b80d-e0592440eb64"
      },
      "execution_count": 12,
      "outputs": [
        {
          "output_type": "execute_result",
          "data": {
            "text/plain": [
              "<keras.callbacks.History at 0x7f08326ff250>"
            ]
          },
          "metadata": {},
          "execution_count": 12
        }
      ]
    },
    {
      "cell_type": "code",
      "source": [
        "prediction_values = model.predict(features)\n",
        "final_loss = model.evaluate(features,labels)\n",
        "plt.title(\"loss = {:1.3f}\".format(final_loss))\n",
        "visualize_l2(prediction_values.reshape(-1), x_train, labels.reshape(-1))\n",
        "plt.show()"
      ],
      "metadata": {
        "colab": {
          "base_uri": "https://localhost:8080/",
          "height": 312
        },
        "id": "fj5VUlYXCFeY",
        "outputId": "1a6a1438-c550-497d-8cf5-0792c208d9c5"
      },
      "execution_count": 13,
      "outputs": [
        {
          "output_type": "stream",
          "name": "stdout",
          "text": [
            "2/2 [==============================] - 0s 12ms/step - loss: 0.0168\n"
          ]
        },
        {
          "output_type": "display_data",
          "data": {
            "text/plain": [
              "<Figure size 432x288 with 1 Axes>"
            ],
            "image/png": "[encoded data removed]"
          },
          "metadata": {
            "needs_background": "light"
          }
        }
      ]
    },
    {
      "cell_type": "markdown",
      "source": [
        "## 10.4 신경망 모델의 다양한 표현"
      ],
      "metadata": {
        "id": "gpz6lwpkGP_M"
      }
    },
    {
      "cell_type": "code",
      "source": [
        "num_hidden1 = 10\n",
        "num_hidden2 = 10\n",
        "W1 = tf.constant_initializer(tf.Variable(tf.random.normal([1, num_hidden1], seed=624)).numpy())\n",
        "b1 = tf.constant_initializer(tf.Variable(tf.random.normal([num_hidden1], seed=624)).numpy())\n",
        "\n",
        "W2 = tf.constant_initializer(tf.Variable(tf.random.normal([num_hidden1, num_hidden2], seed=624)).numpy())\n",
        "b2 = tf.constant_initializer(tf.Variable(tf.random.normal([num_hidden2], seed=624)).numpy())\n",
        "\n",
        "W3 = tf.constant_initializer(tf.Variable(tf.random.normal([num_hidden2, 1], seed=624)).numpy())\n",
        "b3 = tf.constant_initializer(tf.Variable(tf.random.normal([1], seed=624)).numpy())\n",
        "\n",
        "class MyModel(tf.keras.Model):\n",
        "  def __init__(self, **kwargs):\n",
        "      super().__init__(**kwargs)\n",
        "\n",
        "      self.hidden1 = tf.keras.layers.Dense(10, activation=tf.nn.sigmoid,\n",
        "        kernel_initializer=W1, bias_initializer=b1, name='hidden_1')\n",
        "\n",
        "      self.hidden2 = tf.keras.layers.Dense(10, activation=tf.nn.sigmoid,\n",
        "        kernel_initializer=W2, bias_initializer=b2, name='hidden_2')\n",
        "\n",
        "      self.out = tf.keras.layers.Dense(1, activation = None,\n",
        "        kernel_initializer=W3, bias_initializer=b3, name='output')\n",
        "\n",
        "  def call(self, x):\n",
        "      h1 = self.hidden1(x)\n",
        "      h2 = self.hidden2(h1)\n",
        "      yhat = self.out(h2)\n",
        "      return yhat"
      ],
      "metadata": {
        "id": "1PnmsfXHGRUX"
      },
      "execution_count": 14,
      "outputs": []
    },
    {
      "cell_type": "code",
      "source": [
        "model = MyModel()\n",
        "\n",
        "MaxEpochs = 120\n",
        "batch_size = 10\n",
        "lr = 0.1\n",
        "optimizer = tf.keras.optimizers.Adam(lr)\n",
        "loss = tf.keras.losses.MeanSquaredError()\n",
        "\n",
        "np.random.seed(320)\n",
        "shuffled_id = np.arange(0, len(x_train))\n",
        "np.random.shuffle(shuffled_id)\n",
        "shuffled_x_train = features[shuffled_id]\n",
        "shuffled_y_train = labels[shuffled_id]\n",
        "\n",
        "model.compile(optimizer = optimizer, loss = loss)\n",
        "model.fit(shuffled_x_train, shuffled_y_train, \n",
        "          epochs = MaxEpochs, batch_size = batch_size, \n",
        "          shuffle = False, verbose=0)\n",
        "\n",
        "prediction_values = model.predict(features)\n",
        "final_loss = model.evaluate(features,labels)\n",
        "plt.title(\"loss = {:1.3f}\".format(final_loss))\n",
        "visualize_l2(prediction_values.reshape(-1), x_train, labels.reshape(-1))\n",
        "plt.show()"
      ],
      "metadata": {
        "colab": {
          "base_uri": "https://localhost:8080/",
          "height": 312
        },
        "id": "2qCOPdP-GsGh",
        "outputId": "fd0ca743-3595-4c92-edd4-76d01ae23772"
      },
      "execution_count": 15,
      "outputs": [
        {
          "output_type": "stream",
          "name": "stdout",
          "text": [
            "2/2 [==============================] - 0s 7ms/step - loss: 0.0174\n"
          ]
        },
        {
          "output_type": "display_data",
          "data": {
            "text/plain": [
              "<Figure size 432x288 with 1 Axes>"
            ],
            "image/png": "[encoded data removed]"
          },
          "metadata": {
            "needs_background": "light"
          }
        }
      ]
    },
    {
      "cell_type": "code",
      "source": [
        "for var in model.layers:\n",
        "  var_name = var.trainable_variables[0].name\n",
        "  var_shape = var.trainable_variables[0].shape\n",
        "  print(var_name, var_shape, np.prod(var_shape))\n",
        "\n",
        "  var_name = var.trainable_variables[1].name\n",
        "  var_shape = var.trainable_variables[1].shape\n",
        "  print(var_name, var_shape, np.prod(var_shape))"
      ],
      "metadata": {
        "colab": {
          "base_uri": "https://localhost:8080/"
        },
        "id": "R9Z3HgiiHD0z",
        "outputId": "100dfc03-1ae4-465f-96d8-c8e1cc1d5b05"
      },
      "execution_count": 16,
      "outputs": [
        {
          "output_type": "stream",
          "name": "stdout",
          "text": [
            "my_model_9/hidden_1/kernel:0 (1, 10) 10\n",
            "my_model_9/hidden_1/bias:0 (10,) 10\n",
            "my_model_9/hidden_2/kernel:0 (10, 10) 100\n",
            "my_model_9/hidden_2/bias:0 (10,) 10\n",
            "my_model_9/output/kernel:0 (10, 1) 10\n",
            "my_model_9/output/bias:0 (1,) 1\n"
          ]
        }
      ]
    },
    {
      "cell_type": "markdown",
      "source": [
        "## 10.5 신경망 모델의 단점"
      ],
      "metadata": {
        "id": "Z3UG2csKHSN9"
      }
    },
    {
      "cell_type": "code",
      "source": [
        "initializer = tf.keras.initializers.Zeros()\n",
        "\n",
        "class MyModel(tf.keras.Model):\n",
        "  def __init__(self, **kwargs):\n",
        "      super().__init__(**kwargs)\n",
        "      # 은닉층 1\n",
        "      self.hidden1 = tf.keras.layers.Dense(10, activation=tf.nn.sigmoid,\n",
        "        kernel_initializer=initializer, bias_initializer=initializer, name='hidden_1')\n",
        "      # 은닉층 2\n",
        "      self.hidden2 = tf.keras.layers.Dense(10, activation=tf.nn.sigmoid,\n",
        "        kernel_initializer=initializer, bias_initializer=initializer, name='hidden_2')\n",
        "      # 출력\n",
        "      self.out = tf.keras.layers.Dense(1, activation = None,\n",
        "        kernel_initializer=initializer, bias_initializer=initializer, name='output')\n",
        "\n",
        "  def call(self, x):\n",
        "      h1 = self.hidden1(x) # 은닉층 1\n",
        "      h2 = self.hidden2(h1) # 은닉층 2\n",
        "      yhat = self.out(h2) # 출력층\n",
        "      return yhat"
      ],
      "metadata": {
        "id": "1zU0p-JCHNGi"
      },
      "execution_count": 17,
      "outputs": []
    },
    {
      "cell_type": "code",
      "source": [
        "model = MyModel()\n",
        "\n",
        "MaxEpochs = 120\n",
        "batch_size = 10\n",
        "lr = 0.1\n",
        "optimizer = tf.keras.optimizers.Adam(lr)\n",
        "loss = tf.keras.losses.MeanSquaredError()\n",
        "\n",
        "np.random.seed(320)\n",
        "shuffled_id = np.arange(0, len(x_train))\n",
        "np.random.shuffle(shuffled_id)\n",
        "shuffled_x_train = features[shuffled_id]\n",
        "shuffled_y_train = labels[shuffled_id]\n",
        "\n",
        "model.compile(optimizer = optimizer, loss = loss)\n",
        "model.fit(shuffled_x_train, shuffled_y_train, \n",
        "          epochs = MaxEpochs, batch_size = batch_size, \n",
        "          shuffle = False, verbose=0)\n",
        "\n",
        "prediction_values = model.predict(features)\n",
        "final_loss = model.evaluate(features,labels)\n",
        "plt.title(\"loss = {:1.3f}\".format(final_loss))\n",
        "visualize_l2(prediction_values.reshape(-1), x_train, labels.reshape(-1))\n",
        "plt.show()"
      ],
      "metadata": {
        "colab": {
          "base_uri": "https://localhost:8080/",
          "height": 312
        },
        "id": "U_uujhvkHWkj",
        "outputId": "9f4141c5-e881-4b2b-c3e1-d594a135a804"
      },
      "execution_count": 18,
      "outputs": [
        {
          "output_type": "stream",
          "name": "stdout",
          "text": [
            "2/2 [==============================] - 0s 7ms/step - loss: 0.0404\n"
          ]
        },
        {
          "output_type": "display_data",
          "data": {
            "text/plain": [
              "<Figure size 432x288 with 1 Axes>"
            ],
            "image/png": "[encoded data removed]"
          },
          "metadata": {
            "needs_background": "light"
          }
        }
      ]
    },
    {
      "cell_type": "code",
      "source": [
        "initializer = tf.keras.initializers.Ones()\n",
        "\n",
        "class MyModel(tf.keras.Model):\n",
        "  def __init__(self, **kwargs):\n",
        "      super().__init__(**kwargs)\n",
        "      # 은닉층 1\n",
        "      self.hidden1 = tf.keras.layers.Dense(10, activation=tf.nn.sigmoid,\n",
        "        kernel_initializer=initializer, bias_initializer=initializer, name='hidden_1')\n",
        "      # 은닉층 2\n",
        "      self.hidden2 = tf.keras.layers.Dense(10, activation=tf.nn.sigmoid,\n",
        "        kernel_initializer=initializer, bias_initializer=initializer, name='hidden_2')\n",
        "      # 출력\n",
        "      self.out = tf.keras.layers.Dense(1, activation = None,\n",
        "        kernel_initializer=initializer, bias_initializer=initializer, name='output')\n",
        "\n",
        "  def call(self, x):\n",
        "      h1 = self.hidden1(x) # 은닉층 1\n",
        "      h2 = self.hidden2(h1) # 은닉층 2\n",
        "      yhat = self.out(h2) # 출력층\n",
        "      return yhat"
      ],
      "metadata": {
        "id": "VtWsbBNvJHR0"
      },
      "execution_count": 19,
      "outputs": []
    },
    {
      "cell_type": "code",
      "source": [
        "model = MyModel()\n",
        "\n",
        "MaxEpochs = 120\n",
        "batch_size = 10\n",
        "lr = 0.1\n",
        "optimizer = tf.keras.optimizers.Adam(lr)\n",
        "loss = tf.keras.losses.MeanSquaredError()\n",
        "\n",
        "np.random.seed(320)\n",
        "shuffled_id = np.arange(0, len(x_train))\n",
        "np.random.shuffle(shuffled_id)\n",
        "shuffled_x_train = features[shuffled_id]\n",
        "shuffled_y_train = labels[shuffled_id]\n",
        "\n",
        "model.compile(optimizer = optimizer, loss = loss)\n",
        "model.fit(shuffled_x_train, shuffled_y_train, \n",
        "          epochs = MaxEpochs, batch_size = batch_size, \n",
        "          shuffle = False, verbose=0)\n",
        "\n",
        "prediction_values = model.predict(features)\n",
        "final_loss = model.evaluate(features,labels)\n",
        "plt.title(\"loss = {:1.3f}\".format(final_loss))\n",
        "visualize_l2(prediction_values.reshape(-1), x_train, labels.reshape(-1))\n",
        "plt.show()"
      ],
      "metadata": {
        "colab": {
          "base_uri": "https://localhost:8080/",
          "height": 312
        },
        "id": "2YgGARBaJIho",
        "outputId": "0b905e58-2c91-4c05-9e2c-e8e64f7bd11e"
      },
      "execution_count": 20,
      "outputs": [
        {
          "output_type": "stream",
          "name": "stdout",
          "text": [
            "2/2 [==============================] - 0s 11ms/step - loss: 0.0650\n"
          ]
        },
        {
          "output_type": "display_data",
          "data": {
            "text/plain": [
              "<Figure size 432x288 with 1 Axes>"
            ],
            "image/png": "[encoded data removed]"
          },
          "metadata": {
            "needs_background": "light"
          }
        }
      ]
    },
    {
      "cell_type": "code",
      "source": [
        "initializer = tf.keras.initializers.RandomNormal(mean=0., stddev=1., seed=119)\n",
        "\n",
        "class MyModel(tf.keras.Model):\n",
        "  def __init__(self, **kwargs):\n",
        "      super().__init__(**kwargs)\n",
        "\n",
        "      self.hidden1 = tf.keras.layers.Dense(10, activation=tf.nn.sigmoid,\n",
        "        kernel_initializer=initializer, bias_initializer=initializer, name='hidden_1')\n",
        "\n",
        "      self.hidden2 = tf.keras.layers.Dense(10, activation=tf.nn.sigmoid,\n",
        "        kernel_initializer=initializer, bias_initializer=initializer, name='hidden_2')\n",
        "\n",
        "      self.out = tf.keras.layers.Dense(1, activation = None,\n",
        "        kernel_initializer=initializer, bias_initializer=initializer, name='output')\n",
        "\n",
        "  def call(self, x):\n",
        "      h1 = self.hidden1(x)\n",
        "      h2 = self.hidden2(h1)\n",
        "      yhat = self.out(h2)\n",
        "      return yhat"
      ],
      "metadata": {
        "id": "Aj2vId7lHhKQ"
      },
      "execution_count": 21,
      "outputs": []
    },
    {
      "cell_type": "code",
      "source": [
        "model = MyModel()\n",
        "\n",
        "MaxEpochs = 120\n",
        "batch_size = 10\n",
        "lr = 0.1\n",
        "optimizer = tf.keras.optimizers.Adam(lr)\n",
        "loss = tf.keras.losses.MeanSquaredError()\n",
        "\n",
        "np.random.seed(320)\n",
        "shuffled_id = np.arange(0, len(x_train))\n",
        "np.random.shuffle(shuffled_id)\n",
        "shuffled_x_train = features[shuffled_id]\n",
        "shuffled_y_train = labels[shuffled_id]\n",
        "\n",
        "model.compile(optimizer = optimizer, loss = loss)\n",
        "model.fit(shuffled_x_train, shuffled_y_train, \n",
        "          epochs = MaxEpochs, batch_size = batch_size, \n",
        "          shuffle = False, verbose=0)\n",
        "\n",
        "prediction_values = model.predict(features)\n",
        "final_loss = model.evaluate(features,labels)\n",
        "plt.title(\"loss = {:1.3f}\".format(final_loss))\n",
        "visualize_l2(prediction_values.reshape(-1), x_train, labels.reshape(-1))\n",
        "plt.show()"
      ],
      "metadata": {
        "colab": {
          "base_uri": "https://localhost:8080/",
          "height": 366
        },
        "id": "nUw9pjYvHeho",
        "outputId": "befefd07-1985-49a9-ae2f-467ef2943964"
      },
      "execution_count": 22,
      "outputs": [
        {
          "output_type": "stream",
          "name": "stderr",
          "text": [
            "WARNING:tensorflow:5 out of the last 9 calls to <function Model.make_predict_function.<locals>.predict_function at 0x7f082e282a70> triggered tf.function retracing. Tracing is expensive and the excessive number of tracings could be due to (1) creating @tf.function repeatedly in a loop, (2) passing tensors with different shapes, (3) passing Python objects instead of tensors. For (1), please define your @tf.function outside of the loop. For (2), @tf.function has experimental_relax_shapes=True option that relaxes argument shapes that can avoid unnecessary retracing. For (3), please refer to https://www.tensorflow.org/guide/function#controlling_retracing and https://www.tensorflow.org/api_docs/python/tf/function for  more details.\n",
            "WARNING:tensorflow:5 out of the last 9 calls to <function Model.make_test_function.<locals>.test_function at 0x7f082e271e60> triggered tf.function retracing. Tracing is expensive and the excessive number of tracings could be due to (1) creating @tf.function repeatedly in a loop, (2) passing tensors with different shapes, (3) passing Python objects instead of tensors. For (1), please define your @tf.function outside of the loop. For (2), @tf.function has experimental_relax_shapes=True option that relaxes argument shapes that can avoid unnecessary retracing. For (3), please refer to https://www.tensorflow.org/guide/function#controlling_retracing and https://www.tensorflow.org/api_docs/python/tf/function for  more details.\n"
          ]
        },
        {
          "output_type": "stream",
          "name": "stdout",
          "text": [
            "2/2 [==============================] - 0s 5ms/step - loss: 0.0200\n"
          ]
        },
        {
          "output_type": "display_data",
          "data": {
            "text/plain": [
              "<Figure size 432x288 with 1 Axes>"
            ],
            "image/png": "[encoded data removed]"
          },
          "metadata": {
            "needs_background": "light"
          }
        }
      ]
    },
    {
      "cell_type": "code",
      "source": [],
      "metadata": {
        "id": "hQOGI0VIHmDC"
      },
      "execution_count": 22,
      "outputs": []
    }
  ]
}