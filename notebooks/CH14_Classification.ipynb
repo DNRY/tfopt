{
  "cells": [
    {
      "cell_type": "markdown",
      "id": "8276dd45",
      "metadata": {
        "id": "8276dd45"
      },
      "source": [
        "# 14장. 오버피팅의 진단과 해결책"
      ]
    },
    {
      "cell_type": "code",
      "source": [
        "!wget -N https://github.com/DNRY/tfopt/raw/main/notebooks/helper.py"
      ],
      "metadata": {
        "id": "wB0Nq-S2Wz6x"
      },
      "id": "wB0Nq-S2Wz6x",
      "execution_count": null,
      "outputs": []
    },
    {
      "cell_type": "markdown",
      "id": "ebf48dd9",
      "metadata": {
        "id": "ebf48dd9"
      },
      "source": [
        "## 14.4 분류 문제"
      ]
    },
    {
      "cell_type": "code",
      "execution_count": null,
      "id": "ce53ad98",
      "metadata": {
        "id": "ce53ad98"
      },
      "outputs": [],
      "source": [
        "import numpy as np\n",
        "import matplotlib.pylab as plt\n",
        "import tensorflow as tf\n",
        "%matplotlib inline\n",
        "%config InlineBackend.figure_format = 'retina'\n",
        "from sklearn.datasets import make_circles\n",
        "\n",
        "# 학습용 데이터 생성\n",
        "xy_train, labels_train = make_circles(n_samples=50, noise=0.1, random_state=717)\n",
        "labels_train = labels_train.reshape(-1,1)\n",
        "\n",
        "# 테스트용 데이터 생성\n",
        "xy_test, labels_test = make_circles(n_samples=50, noise=0.1, random_state=712)\n",
        "labels_test = labels_test.reshape(-1,1)"
      ]
    },
    {
      "cell_type": "code",
      "execution_count": null,
      "id": "e3d83087",
      "metadata": {
        "id": "e3d83087"
      },
      "outputs": [],
      "source": [
        "f_fn = lambda x,y: [x, y]\n",
        "features = np.array([f_fn(xval, yval) for xval, yval in xy_train])\n",
        "features_test = np.array([f_fn(xval, yval) for xval, yval in xy_test])\n",
        "dim_features = features.shape[1]"
      ]
    },
    {
      "cell_type": "code",
      "execution_count": null,
      "id": "ed0fde82",
      "metadata": {
        "id": "ed0fde82"
      },
      "outputs": [],
      "source": [
        "class MyModel(tf.keras.Model):\n",
        "    def __init__(self, **kwargs):\n",
        "        super().__init__(**kwargs)\n",
        "        num_hidden1 = 64\n",
        "        num_hidden2 = 32\n",
        "\n",
        "        self.W1 = tf.Variable(tf.random.normal([2, num_hidden1], seed=624)) \n",
        "        self.b1 = tf.Variable(tf.random.normal([num_hidden1], seed=624)) \n",
        "\n",
        "        self.W2 = tf.Variable(tf.random.normal([num_hidden1, num_hidden2], seed=624)) \n",
        "        self.b2 = tf.Variable(tf.random.normal([num_hidden2], seed=624)) \n",
        "\n",
        "        self.W3 = tf.Variable(tf.random.normal([num_hidden2, 1], seed=624)) \n",
        "        self.b3 = tf.Variable(tf.random.normal([1], seed=624)) \n",
        "\n",
        "    def call(self, x):\n",
        "        l1 = tf.matmul(x, self.W1) + self.b1\n",
        "        h1 = tf.nn.sigmoid(l1)\n",
        "\n",
        "        l2 = tf.matmul(h1, self.W2) + self.b2\n",
        "        h2 = tf.nn.sigmoid(l2)\n",
        "\n",
        "        l3 = tf.matmul(h2, self.W3) + self.b3\n",
        "        yhat = tf.nn.sigmoid(l3)\n",
        "        return yhat"
      ]
    },
    {
      "cell_type": "code",
      "execution_count": null,
      "id": "04e7c14d",
      "metadata": {
        "id": "04e7c14d"
      },
      "outputs": [],
      "source": [
        "model = MyModel()\n",
        "\n",
        "loss = lambda y, yhat: tf.reduce_mean(-y * tf.math.log(yhat) - (1-y) * tf.math.log(1-yhat))"
      ]
    },
    {
      "cell_type": "code",
      "execution_count": null,
      "id": "a662fd7c",
      "metadata": {
        "id": "a662fd7c"
      },
      "outputs": [],
      "source": [
        "def accuracy(x,y):\n",
        "    yhat = model(x)\n",
        "    correct_prediction = tf.equal(y, tf.round(yhat))\n",
        "    return tf.reduce_mean(tf.cast(correct_prediction, tf.float32))"
      ]
    },
    {
      "cell_type": "code",
      "execution_count": null,
      "id": "b478c5da",
      "metadata": {
        "id": "b478c5da"
      },
      "outputs": [],
      "source": [
        "lr = 0.5\n",
        "optimizer = tf.keras.optimizers.SGD(lr)\n",
        "\n",
        "loss_train_history = []\n",
        "loss_test_history = []\n",
        "acc_train_history = []\n",
        "acc_test_history = []\n",
        "\n",
        "np.random.seed(320)\n",
        "shuffled_id = np.arange(0, len(features))\n",
        "np.random.shuffle(shuffled_id)\n",
        "shuffled_x_train = features[shuffled_id]\n",
        "shuffled_y_train = labels_train[shuffled_id]\n",
        "\n",
        "MaxEpochs = 2000\n",
        "batch_size = 10"
      ]
    },
    {
      "cell_type": "code",
      "execution_count": null,
      "id": "98b4110e",
      "metadata": {
        "id": "98b4110e"
      },
      "outputs": [],
      "source": [
        "from helper import generate_batches\n",
        "\n",
        "for epoch in range(MaxEpochs):\n",
        "    if epoch % 100 == 0:\n",
        "        curr_loss = loss(labels_train, model(features))\n",
        "        print(epoch, curr_loss.numpy())\n",
        "    for x_batch, y_batch in generate_batches(batch_size, shuffled_x_train, shuffled_y_train):\n",
        "        with tf.GradientTape() as tape:\n",
        "            curr_loss = loss(y_batch, model(x_batch))\n",
        "            gradients = tape.gradient(curr_loss, model.trainable_variables)\n",
        "            optimizer.apply_gradients(zip(gradients, model.trainable_variables))\n",
        "\n",
        "    loss_train = loss(labels_train, model(features))\n",
        "    loss_test = loss(labels_test, model(features_test))\n",
        "    acc_train = accuracy(features, labels_train)\n",
        "    acc_test = accuracy(features_test, labels_test)\n",
        "    loss_train_history.append(loss_train)\n",
        "    loss_test_history.append(loss_test)\n",
        "    acc_train_history.append(acc_train)\n",
        "    acc_test_history.append(acc_test)"
      ]
    },
    {
      "cell_type": "code",
      "execution_count": null,
      "id": "042c9515",
      "metadata": {
        "id": "042c9515"
      },
      "outputs": [],
      "source": [
        "def plot_model(model, feature_labmda, xy, labels, xy2, labels2, title=''):\n",
        "    from pandas import DataFrame\n",
        "    xx, yy = np.meshgrid(np.linspace(-1.3,1.3, 400), np.linspace(-1.3,1.3, 400))\n",
        "    input_xy = np.array([feature_labmda(xxval, yyval) for xxval, yyval in zip(xx.flatten(), yy.flatten())])\n",
        "    prediction = model(input_xy).numpy()\n",
        "    Z = prediction.reshape(xx.shape)\n",
        "    df = DataFrame(dict(x=xy[:,0], y=xy[:,1], label=labels.flatten()))\n",
        "    markers = {0:'bs', 1:'r^'}\n",
        "    _, ax = plt.subplots(figsize=(7, 7))\n",
        "    cs = ax.contourf(xx, yy, Z, 20, cmap='coolwarm', alpha=.8)\n",
        "    ax.clabel(cs, colors='k')\n",
        "    cs = ax.contour(xx, yy, Z, cmap='coolwarm', levels=[0, 0.5], linestyles='--', linewidths=2)\n",
        "    ax.clabel(cs, colors='k')\n",
        "    for k, xy0 in df[['x', 'y']].iterrows():\n",
        "        x0, y0 = xy0.values\n",
        "        plt.plot(x0, y0, markers[labels[k][0]], mec='k')\n",
        "\n",
        "    markers = {0:'ws', 1:'w^'}    \n",
        "    df = DataFrame(dict(x=xy2[:,0], y=xy2[:,1], label=labels2.flatten()))\n",
        "    for k, xy0 in df[['x', 'y']].iterrows():\n",
        "        x0, y0 = xy0.values\n",
        "        plt.plot(x0, y0, markers[labels2[k][0]], mec='k', alpha=0.7)\n",
        "\n",
        "    ax.set_xlim([-1.3, 1.3])\n",
        "    ax.set_ylim([-1.3, 1.3])\n",
        "    plt.grid(linestyle='--', alpha=0.5)\n",
        "    plt.title(title)\n",
        "    plt.show()"
      ]
    },
    {
      "cell_type": "code",
      "execution_count": null,
      "id": "84c50de1",
      "metadata": {
        "id": "84c50de1"
      },
      "outputs": [],
      "source": [
        "prediction_values = model(features)\n",
        "final_loss_train = loss(labels_train, prediction_values)\n",
        "final_acc_train = accuracy(features, labels_train)\n",
        "\n",
        "prediction_values_test = model(features_test)\n",
        "final_loss_test = loss(labels_test, prediction_values_test)\n",
        "final_acc_test = accuracy(features_test, labels_test)"
      ]
    },
    {
      "cell_type": "code",
      "execution_count": null,
      "id": "15b05b2b",
      "metadata": {
        "id": "15b05b2b"
      },
      "outputs": [],
      "source": [
        "plot_model(model, f_fn, xy_train, labels_train, xy_test, labels_test, \n",
        "    'Train: loss={:1.2f}, acc={:1.2f}\\n Test: loss={:1.2f}, acc={:1.2f}'.format(final_loss_train, \n",
        "                                                                                final_acc_train, \n",
        "                                                                                final_loss_test, \n",
        "                                                                                final_acc_test))"
      ]
    },
    {
      "cell_type": "code",
      "execution_count": null,
      "id": "e648b5fe",
      "metadata": {
        "id": "e648b5fe"
      },
      "outputs": [],
      "source": [
        "plt.plot(loss_train_history, '-k', label='Train (lr = {})'.format(lr))\n",
        "plt.plot(loss_test_history, ':k', label='Test (lr = {})'.format(lr))\n",
        "plt.grid()\n",
        "plt.xlabel('Epoch')\n",
        "plt.ylabel('Loss')\n",
        "plt.title('MaxEpochs = {}'.format(MaxEpochs))\n",
        "plt.legend()\n",
        "plt.show()"
      ]
    },
    {
      "cell_type": "code",
      "execution_count": null,
      "id": "0d83c9fa",
      "metadata": {
        "id": "0d83c9fa"
      },
      "outputs": [],
      "source": [
        "plt.plot(acc_train_history, '-k', label='Train (lr = {})'.format(lr))\n",
        "plt.plot(acc_test_history, ':k', label='Test (lr = {})'.format(lr))\n",
        "plt.grid()\n",
        "plt.xlabel('Epoch')\n",
        "plt.ylabel('Accuracy')\n",
        "plt.title('MaxEpochs = {}'.format(MaxEpochs))\n",
        "plt.legend()\n",
        "plt.show()"
      ]
    },
    {
      "cell_type": "markdown",
      "id": "12655deb",
      "metadata": {
        "id": "12655deb"
      },
      "source": [
        "### $L^2$ Regularization"
      ]
    },
    {
      "cell_type": "code",
      "execution_count": null,
      "id": "3c911e59",
      "metadata": {
        "id": "3c911e59"
      },
      "outputs": [],
      "source": [
        "from sklearn.datasets import make_circles\n",
        "\n",
        "xy_train, labels_train = make_circles(n_samples=50, noise=0.1, random_state=717)\n",
        "labels_train = labels_train.reshape(-1,1)\n",
        "\n",
        "xy_test, labels_test = make_circles(n_samples=50, noise=0.1, random_state=712)\n",
        "labels_test = labels_test.reshape(-1,1)\n",
        "\n",
        "f_fn = lambda x,y: [x, y]\n",
        "features = np.array([f_fn(xval, yval) for xval, yval in xy_train])\n",
        "features_test = np.array([f_fn(xval, yval) for xval, yval in xy_test])\n",
        "dim_features = features.shape[1]"
      ]
    },
    {
      "cell_type": "code",
      "execution_count": null,
      "id": "8c8224ac",
      "metadata": {
        "id": "8c8224ac"
      },
      "outputs": [],
      "source": [
        "class MyModel(tf.keras.Model):\n",
        "    def __init__(self, **kwargs):\n",
        "        super().__init__(**kwargs)\n",
        "        num_hidden1 = 64\n",
        "        num_hidden2 = 32\n",
        "\n",
        "        self.W1 = tf.Variable(tf.random.normal([2, num_hidden1], seed=624)) \n",
        "        self.b1 = tf.Variable(tf.random.normal([num_hidden1], seed=624)) \n",
        "\n",
        "        self.W2 = tf.Variable(tf.random.normal([num_hidden1, num_hidden2], seed=624)) \n",
        "        self.b2 = tf.Variable(tf.random.normal([num_hidden2], seed=624)) \n",
        "\n",
        "        self.W3 = tf.Variable(tf.random.normal([num_hidden2, 1], seed=624)) \n",
        "        self.b3 = tf.Variable(tf.random.normal([1], seed=624)) \n",
        "\n",
        "    def call(self, x):\n",
        "        l1 = tf.matmul(x, self.W1) + self.b1\n",
        "        h1 = tf.nn.sigmoid(l1)\n",
        "\n",
        "        l2 = tf.matmul(h1, self.W2) + self.b2\n",
        "        h2 = tf.nn.sigmoid(l2)\n",
        "\n",
        "        l3 = tf.matmul(h2, self.W3) + self.b3\n",
        "        yhat = tf.nn.sigmoid(l3)\n",
        "        return yhat"
      ]
    },
    {
      "cell_type": "code",
      "execution_count": null,
      "id": "0485f81b",
      "metadata": {
        "id": "0485f81b"
      },
      "outputs": [],
      "source": [
        "model = MyModel()\n",
        "\n",
        "l2_norm = lambda W1, W2, W3: tf.nn.l2_loss(W1) + tf.nn.l2_loss(W2) + tf.nn.l2_loss(W3)\n",
        "\n",
        "beta = 3E-4\n",
        "loss = lambda y, yhat, W1, W2, W3: tf.reduce_mean(-y * tf.math.log(yhat) - (1-y) * tf.math.log(1-yhat)) + beta*l2_norm(W1,W2,W3)"
      ]
    },
    {
      "cell_type": "code",
      "execution_count": null,
      "id": "e0f9fddb",
      "metadata": {
        "id": "e0f9fddb"
      },
      "outputs": [],
      "source": [
        "def accuracy(x,y):\n",
        "    yhat = model(x)\n",
        "    correct_prediction = tf.equal(y, tf.round(yhat))\n",
        "    return tf.reduce_mean(tf.cast(correct_prediction, tf.float32))"
      ]
    },
    {
      "cell_type": "code",
      "execution_count": null,
      "id": "50a5a02d",
      "metadata": {
        "id": "50a5a02d"
      },
      "outputs": [],
      "source": [
        "lr = 0.5\n",
        "optimizer = tf.keras.optimizers.SGD(lr)\n",
        "\n",
        "loss_train_history = []\n",
        "loss_test_history = []\n",
        "acc_train_history = []\n",
        "acc_test_history = []\n",
        "\n",
        "np.random.seed(320)\n",
        "shuffled_id = np.arange(0, len(features))\n",
        "np.random.shuffle(shuffled_id)\n",
        "shuffled_x_train = features[shuffled_id]\n",
        "shuffled_y_train = labels_train[shuffled_id]\n",
        "\n",
        "MaxEpochs = 2000\n",
        "batch_size = 10"
      ]
    },
    {
      "cell_type": "code",
      "execution_count": null,
      "id": "61f7a9d8",
      "metadata": {
        "id": "61f7a9d8"
      },
      "outputs": [],
      "source": [
        "from helper import generate_batches\n",
        "\n",
        "for epoch in range(MaxEpochs):\n",
        "    if epoch % 100 == 0:\n",
        "        curr_loss = loss(labels_train, model(features), model.W1, model.W2, model.W3)\n",
        "        print(epoch, curr_loss.numpy())\n",
        "    for x_batch, y_batch in generate_batches(batch_size, shuffled_x_train, shuffled_y_train):\n",
        "        with tf.GradientTape() as tape:\n",
        "            curr_loss = loss(y_batch, model(x_batch), model.W1, model.W2, model.W3)\n",
        "            gradients = tape.gradient(curr_loss, model.trainable_variables)\n",
        "            optimizer.apply_gradients(zip(gradients, model.trainable_variables))\n",
        "\n",
        "    loss_train = loss(labels_train, model(features), model.W1, model.W2, model.W3)\n",
        "    loss_test = loss(labels_test, model(features_test), model.W1, model.W2, model.W3)\n",
        "    acc_train = accuracy(features, labels_train)\n",
        "    acc_test = accuracy(features_test, labels_test)\n",
        "    loss_train_history.append(loss_train)\n",
        "    loss_test_history.append(loss_test)\n",
        "    acc_train_history.append(acc_train)\n",
        "    acc_test_history.append(acc_test)"
      ]
    },
    {
      "cell_type": "code",
      "execution_count": null,
      "id": "e012e076",
      "metadata": {
        "id": "e012e076"
      },
      "outputs": [],
      "source": [
        "prediction_values = model(features)\n",
        "final_loss_train = loss(labels_train, prediction_values, model.W1, model.W2, model.W3)\n",
        "final_acc_train = accuracy(features, labels_train)\n",
        "\n",
        "prediction_values_test = model(features_test)\n",
        "final_loss_test = loss(labels_test, prediction_values_test, model.W1, model.W2, model.W3)\n",
        "final_acc_test = accuracy(features_test, labels_test)"
      ]
    },
    {
      "cell_type": "code",
      "execution_count": null,
      "id": "d5ec379b",
      "metadata": {
        "id": "d5ec379b"
      },
      "outputs": [],
      "source": [
        "plot_model(model, f_fn, xy_train, labels_train, xy_test, labels_test, \n",
        "    'Train: loss={:1.2f}, acc={:1.2f}\\n Test: loss={:1.2f}, acc={:1.2f}'.format(final_loss_train, \n",
        "                                                                                final_acc_train, \n",
        "                                                                                final_loss_test, \n",
        "                                                                                final_acc_test))"
      ]
    },
    {
      "cell_type": "code",
      "execution_count": null,
      "id": "7ebc6614",
      "metadata": {
        "id": "7ebc6614"
      },
      "outputs": [],
      "source": [
        "plt.plot(loss_train_history, '-k', label='Train (lr = {})'.format(lr))\n",
        "plt.plot(loss_test_history, ':k', label='Test (lr = {})'.format(lr))\n",
        "plt.grid()\n",
        "plt.xlabel('Epoch')\n",
        "plt.ylabel('Loss')\n",
        "plt.title('MaxEpochs = {}'.format(MaxEpochs))\n",
        "plt.legend()\n",
        "plt.show()"
      ]
    },
    {
      "cell_type": "code",
      "execution_count": null,
      "id": "51fe2e46",
      "metadata": {
        "id": "51fe2e46"
      },
      "outputs": [],
      "source": [
        "plt.plot(acc_train_history, '-k', label='Train (lr = {})'.format(lr))\n",
        "plt.plot(acc_test_history, ':k', label='Test (lr = {})'.format(lr))\n",
        "plt.grid()\n",
        "plt.xlabel('Epoch')\n",
        "plt.ylabel('Accuracy')\n",
        "plt.title('MaxEpochs = {}'.format(MaxEpochs))\n",
        "plt.legend()\n",
        "plt.show()"
      ]
    },
    {
      "cell_type": "code",
      "execution_count": null,
      "id": "c39020ac",
      "metadata": {
        "id": "c39020ac"
      },
      "outputs": [],
      "source": []
    }
  ],
  "metadata": {
    "kernelspec": {
      "display_name": "Python 3 (ipykernel)",
      "language": "python",
      "name": "python3"
    },
    "language_info": {
      "codemirror_mode": {
        "name": "ipython",
        "version": 3
      },
      "file_extension": ".py",
      "mimetype": "text/x-python",
      "name": "python",
      "nbconvert_exporter": "python",
      "pygments_lexer": "ipython3",
      "version": "3.9.10"
    },
    "colab": {
      "provenance": []
    }
  },
  "nbformat": 4,
  "nbformat_minor": 5
}