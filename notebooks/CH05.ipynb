{
 "cells": [
  {
   "cell_type": "markdown",
   "metadata": {},
   "source": [
    "# 5. 딥러닝에 필요한 최적화 이론"
   ]
  },
  {
   "cell_type": "markdown",
   "metadata": {},
   "source": [
    "#### Scikit-Learn을 이용한 선형회귀"
   ]
  },
  {
   "cell_type": "code",
   "execution_count": 1,
   "metadata": {},
   "outputs": [
    {
     "name": "stdout",
     "output_type": "stream",
     "text": [
      "1.0\n",
      "[[-1.]]\n",
      "[1.]\n",
      "[[-4.]]\n"
     ]
    }
   ],
   "source": [
    "# training data\n",
    "x_train = [[1], [2], [3], [4]]\n",
    "y_train = [[0], [-1], [-2], [-3]]\n",
    "\n",
    "# Scikit-Learn의 선형회귀 예제\n",
    "from sklearn import linear_model\n",
    "reg = linear_model.LinearRegression()\n",
    "reg.fit(x_train, y_train)\n",
    "\n",
    "print(reg.score(x_train,y_train))\n",
    "print(reg.coef_)\n",
    "print(reg.intercept_)\n",
    "print(reg.predict([[5]]))"
   ]
  },
  {
   "cell_type": "code",
   "execution_count": 2,
   "metadata": {},
   "outputs": [
    {
     "name": "stdout",
     "output_type": "stream",
     "text": [
      "0 [0.3] [-0.3] 23.66\n",
      "100 [-0.84079814] [0.53192717] 0.14636436\n",
      "200 [-0.95227844] [0.8596927] 0.01315132\n",
      "300 [-0.98569524] [0.9579423] 0.0011816786\n",
      "400 [-0.99571204] [0.98739296] 0.000106178064\n",
      "500 [-0.99871475] [0.99622124] 9.539404e-06\n",
      "600 [-0.9996148] [0.9988674] 8.568733e-07\n",
      "700 [-0.99988455] [0.99966055] 7.6948666e-08\n",
      "800 [-0.99996537] [0.99989825] 6.908479e-09\n",
      "900 [-0.99998957] [0.99996936] 6.2447114e-10\n"
     ]
    }
   ],
   "source": [
    "# TensorFlow의 선형회귀 예제\n",
    "import tensorflow as tf\n",
    "\n",
    "# Model Parameter\n",
    "W = tf.Variable([.3], dtype=tf.float32)\n",
    "b = tf.Variable([-.3], dtype=tf.float32)\n",
    "\n",
    "@tf.function\n",
    "def linear_model(x):\n",
    "    return W * x + b\n",
    "\n",
    "@tf.function\n",
    "def loss(y,predict):\n",
    "    return tf.reduce_sum(tf.square(y-predict))\n",
    "\n",
    "# training data\n",
    "x_train = [[1], [2], [3], [4]]\n",
    "y_train = [[0], [-1], [-2], [-3]]\n",
    "\n",
    "MaxIter = 1000\n",
    "lr = 0.01\n",
    "\n",
    "for i in range(MaxIter):\n",
    "    with tf.GradientTape() as tape:\n",
    "        current_loss = loss(y_train, linear_model(x_train))\n",
    "        dw, db = tape.gradient(current_loss, [W, b])\n",
    "        \n",
    "        if i%100 == 0:\n",
    "            print(i, W.numpy(), b.numpy(), current_loss.numpy())\n",
    "        \n",
    "        W.assign_sub(lr * dw)\n",
    "        b.assign_sub(lr * db)"
   ]
  },
  {
   "cell_type": "markdown",
   "metadata": {},
   "source": [
    "## 5.1 딥러닝에 나타나는 최적화 문제"
   ]
  },
  {
   "cell_type": "code",
   "execution_count": 3,
   "metadata": {},
   "outputs": [],
   "source": [
    "import tensorflow as tf\n",
    "from tensorflow.keras import layers\n",
    "\n",
    "x_train = [[1.], [2.], [3.], [4.]]\n",
    "y_train = [[0.], [-1.], [-2.], [-3.]]"
   ]
  },
  {
   "cell_type": "code",
   "execution_count": 4,
   "metadata": {},
   "outputs": [
    {
     "name": "stdout",
     "output_type": "stream",
     "text": [
      "Epoch 1/10\n",
      "1/1 [==============================] - 0s 168ms/step - loss: 0.1679\n",
      "Epoch 2/10\n",
      "1/1 [==============================] - 0s 3ms/step - loss: 0.1660\n",
      "Epoch 3/10\n",
      "1/1 [==============================] - 0s 2ms/step - loss: 0.1644\n",
      "Epoch 4/10\n",
      "1/1 [==============================] - 0s 3ms/step - loss: 0.1630\n",
      "Epoch 5/10\n",
      "1/1 [==============================] - 0s 3ms/step - loss: 0.1618\n",
      "Epoch 6/10\n",
      "1/1 [==============================] - 0s 2ms/step - loss: 0.1606\n",
      "Epoch 7/10\n",
      "1/1 [==============================] - 0s 3ms/step - loss: 0.1595\n",
      "Epoch 8/10\n",
      "1/1 [==============================] - 0s 2ms/step - loss: 0.1585\n",
      "Epoch 9/10\n",
      "1/1 [==============================] - 0s 2ms/step - loss: 0.1575\n",
      "Epoch 10/10\n",
      "1/1 [==============================] - 0s 2ms/step - loss: 0.1565\n"
     ]
    }
   ],
   "source": [
    "x = layers.Input(shape=(1))\n",
    "y = layers.Dense(1)(x)\n",
    "linear_model = tf.keras.Model(inputs=x, outputs=y)\n",
    "\n",
    "W, b = linear_model.weights\n",
    "loss = tf.keras.losses.MeanSquaredError()\n",
    "\n",
    "linear_model.compile(loss=loss, optimizer=tf.keras.optimizers.SGD(0.01))\n",
    "_ = linear_model.fit(x_train, y_train, epochs=10)"
   ]
  },
  {
   "cell_type": "code",
   "execution_count": 5,
   "metadata": {},
   "outputs": [
    {
     "name": "stdout",
     "output_type": "stream",
     "text": [
      "Epoch 1/10\n",
      "1/1 [==============================] - 0s 150ms/step - loss: 0.2215\n",
      "Epoch 2/10\n",
      "1/1 [==============================] - 0s 3ms/step - loss: 0.2063\n",
      "Epoch 3/10\n",
      "1/1 [==============================] - 0s 2ms/step - loss: 0.1954\n",
      "Epoch 4/10\n",
      "1/1 [==============================] - 0s 2ms/step - loss: 0.1875\n",
      "Epoch 5/10\n",
      "1/1 [==============================] - 0s 2ms/step - loss: 0.1817\n",
      "Epoch 6/10\n",
      "1/1 [==============================] - 0s 3ms/step - loss: 0.1774\n",
      "Epoch 7/10\n",
      "1/1 [==============================] - 0s 2ms/step - loss: 0.1741\n",
      "Epoch 8/10\n",
      "1/1 [==============================] - 0s 2ms/step - loss: 0.1715\n",
      "Epoch 9/10\n",
      "1/1 [==============================] - 0s 2ms/step - loss: 0.1694\n",
      "Epoch 10/10\n",
      "1/1 [==============================] - 0s 2ms/step - loss: 0.1677\n"
     ]
    }
   ],
   "source": [
    "linear_model = tf.keras.Sequential([\n",
    "    layers.InputLayer(input_shape=(1)),\n",
    "    layers.Dense(1)\n",
    "])\n",
    "\n",
    "W, b = linear_model.weights\n",
    "loss = tf.keras.losses.MeanSquaredError()\n",
    "\n",
    "linear_model.compile(loss=loss, optimizer=tf.keras.optimizers.SGD(0.01))\n",
    "_ = linear_model.fit(x_train, y_train, epochs=10)"
   ]
  },
  {
   "cell_type": "code",
   "execution_count": 6,
   "metadata": {},
   "outputs": [
    {
     "name": "stdout",
     "output_type": "stream",
     "text": [
      "Epoch 1/10\n",
      "1/1 [==============================] - 0s 163ms/step - loss: 0.1674\n",
      "Epoch 2/10\n",
      "1/1 [==============================] - 0s 2ms/step - loss: 0.1664\n",
      "Epoch 3/10\n",
      "1/1 [==============================] - 0s 3ms/step - loss: 0.1654\n",
      "Epoch 4/10\n",
      "1/1 [==============================] - 0s 3ms/step - loss: 0.1644\n",
      "Epoch 5/10\n",
      "1/1 [==============================] - 0s 2ms/step - loss: 0.1634\n",
      "Epoch 6/10\n",
      "1/1 [==============================] - 0s 2ms/step - loss: 0.1624\n",
      "Epoch 7/10\n",
      "1/1 [==============================] - 0s 2ms/step - loss: 0.1614\n",
      "Epoch 8/10\n",
      "1/1 [==============================] - 0s 3ms/step - loss: 0.1605\n",
      "Epoch 9/10\n",
      "1/1 [==============================] - 0s 3ms/step - loss: 0.1595\n",
      "Epoch 10/10\n",
      "1/1 [==============================] - 0s 3ms/step - loss: 0.1586\n"
     ]
    }
   ],
   "source": [
    "class MyLinearModel(tf.keras.Model):\n",
    "  def __init__(self):\n",
    "    super(MyLinearModel, self).__init__()\n",
    "    self.y = layers.Dense(1)\n",
    "\n",
    "  def call(self, x):\n",
    "    return self.y(x)\n",
    "\n",
    "linear_model = MyLinearModel()\n",
    "loss = tf.keras.losses.MeanSquaredError()\n",
    "linear_model.compile(loss=loss, optimizer=tf.keras.optimizers.SGD(0.01))\n",
    "_ = linear_model.fit(x_train, y_train, epochs=10)"
   ]
  },
  {
   "cell_type": "code",
   "execution_count": null,
   "metadata": {},
   "outputs": [],
   "source": []
  }
 ],
 "metadata": {
  "kernelspec": {
   "display_name": "Python 3",
   "language": "python",
   "name": "python3"
  },
  "language_info": {
   "codemirror_mode": {
    "name": "ipython",
    "version": 3
   },
   "file_extension": ".py",
   "mimetype": "text/x-python",
   "name": "python",
   "nbconvert_exporter": "python",
   "pygments_lexer": "ipython3",
   "version": "3.9.5"
  }
 },
 "nbformat": 4,
 "nbformat_minor": 2
}
